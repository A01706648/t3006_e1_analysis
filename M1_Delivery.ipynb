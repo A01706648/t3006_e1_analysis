{
  "cells": [
    {
      "cell_type": "markdown",
      "metadata": {
        "colab_type": "text",
        "id": "view-in-github"
      },
      "source": [
        "<a href=\"https://colab.research.google.com/github/A01706648/TC3006C_Deliver/blob/main/m1/M1_Delivery.ipynb\" target=\"_parent\"><img src=\"https://colab.research.google.com/assets/colab-badge.svg\" alt=\"Open In Colab\"/></a>"
      ]
    },
    {
      "cell_type": "markdown",
      "metadata": {
        "id": "VUwXMDXVezzv"
      },
      "source": [
        "# ***General Questions:***\n",
        "\n",
        "## ***By industry, what is the composition of US public firms in terms of firm size, sales performance and profitability?***\n",
        "\n",
        "*  **SIZE:**  \n",
        "   + WE SAHLL CONSIDER THE FIRM'S ***TOTAL_ASSERT - TOTAL_LIABILITIES*** FOR ITS **BOOK VALUE**  \n",
        " BUT SINCE MOST OF THE US FIRMS ARE IN A VERY HIGH LEVARAGE,  \n",
        " WE MAY ALSO USE FIRM'S **TOTAL_ASSERT** AS ITS REAL PHYSICAL SIZE   \n",
        "   + THE **MARKET VALUE** CAN ALSO REPRESENT FIRM'S SIZE ON THE STOCK MARKET  \n",
        " IT WILL BE ***ORIGINAL_PRICE \\* SHARE_OUTSTANDING***  \n",
        "\n",
        "* **SALE PERFORMANCE:**  \n",
        " **RENENUE** INDICATE HOW MUCH SALE IT IS DONE, IT CAN PRESENT DITRECTLY ON HOW THE SALE IS GOING  \n",
        " WHILE CONSIDERING THE PROFIT, WE SHALL ALSO CONSIDER THE **OPERATING PROFIT MARGIN** AS THE REAL SALE PERFORMANCE,  \n",
        " BECAUSE IT IS THE PROFIT BEFORE TAX TO THE PER SALE, MEANS HOW PROFITABLE FOR THE SALE  \n",
        "\n",
        "* **PROFITABILITY**  \n",
        " WE SHALL CONSIDER THE **PROFIT MARGIN** FOR THE PROFITABILITY FOR EACH FIRM IN PHYSICAL TERM.  \n",
        " IT IS ***NET_INCOME / REVENUE***, AND INDICATES FOR EACH SALE, HOW NET PROFITABLE IT IS FOR THE FIRM.  \n",
        " WE CAN ALSO CONSIDER THE PROFITABILITY ON THE ***STOCK MARKET***,  \n",
        " WE CAN ALSO CONSIDER ***ANNUAL RETURN OF STOCK***, AND ***EARNING PER SHARE***,  \n",
        " SINCE ANNUAL RETURN INDICATE THE MONEY INVESTOR WILL EARN FROM STOCK MARKET ON THAT FIRM,  \n",
        " AND EPS INDICATE THE MONEY FIRM PHYSICALLY EARNING, CAN BE SPREAD TO EACH SHARE,  \n",
        " THEN THE INVESTOR WILL BE ABLE TO SHARE THE EARNING WHICH THE FIRM MADE.\n",
        "\n",
        "## ***WHY SOME FIRMS ARE MORE PROFITABLE THAN OTHERS?***  \n",
        " IF WE TALK ABOUT ***PROFIT MARGIN***,  \n",
        " SINCE SOME COMPANY'S PROFIT IS VERY LITTLE AMOUNT OF THEIR SALES, LIKE WALMART, THE RETAIL INDUSTRY.  \n",
        " AND SOME CONMPANY'S PROFIT IS VERY BIG STANDS A BIG PERCENTAGE OF THEIR SALE, LIKE GOOGLE, THE IT INDUSTRY.  \n",
        " BUT SOME COMPANY ALSO ***SELL*** A LOT WITH A LOW PROFIT MARGIN, AND SOME COMPANY CAN ***SELL*** VERY LITTLE WITH HIGH PROFIT MARGIN.  \n",
        " THOSE TWO FACTOR CAN AFFECT THE FINAL EARNING PER SHARE RESULT.  \n",
        " ALSO, THE ***LEVERAGE PERCENTAGE*** WILL AFFECT THE PROFITABLILITY ALSO.  \n",
        " THE COMPANY WITH HIGH LEVERAGE RATE, WILL NEED TO PAY MORE INTEREST AND PAYBACK THE DEBTS A LOT,  \n",
        " THAT WILL DECREASE THE NETINCOME.\n",
        " IF WE TALK ABOUT ***EARNING PER SHARE***  \n",
        " WE CAN CONSIDER IT DIRECTLY RELATED TO NETINCOME AND STOCK OUTSTANDING.  \n",
        " NET INCOME INDICATE HOW FIRMS PERFORM IN THE REAL WORLD.  \n",
        " IF WE CONSIDER ALL THE COMPANY PERFORM THE SAME IN REAL WORLD,  \n",
        " THEN MORE TAOCK OUTSTANDING ONE FIRM PUBLISH, THE LESS EARNING PER SHARE INVESTOR WILL GET.\n",
        "\n",
        "## ***Which factors/variables from financial statements are related to stock returns?***  \n",
        "**SHORT LEVERAGE PERCENTAGE, EARNING PER SHARE, PROFIT MARGIN AND BOOK-MARKET-RATIO** WILL ALL BE RELATED TO STOCK RETURN.  \n",
        "ALSO WE SHALL CONSIDER THE **BOOK VALUE** OF THE COMPANY TOO."
      ]
    },
    {
      "cell_type": "code",
      "execution_count": 262,
      "metadata": {
        "id": "x82gdt5j37AD"
      },
      "outputs": [],
      "source": [
        "isGoogleColab = False\n",
        "\n",
        "if(isGoogleColab):\n",
        "    from google.colab import drive\n",
        "import pandas as pd\n",
        "import numpy as np\n",
        "import plotly.express as px\n",
        "import matplotlib.pyplot as plt\n",
        "import seaborn as sns\n",
        "from scipy.stats.mstats import winsorize"
      ]
    },
    {
      "cell_type": "code",
      "execution_count": 2,
      "metadata": {
        "id": "r3vbzSuQtJ06"
      },
      "outputs": [],
      "source": [
        "industry_dict = {'Accommodation and Food Services':'Services',\n",
        "       'Administrative and Support and Waste Management and Remediation Services':'Services',\n",
        "       'Agriculture, Forestry, Fishing and Hunting':'Agriculture',\n",
        "       'Arts, Entertainment, and Recreation':'Services', \n",
        "       'Construction':'Construction',\n",
        "       'Educational Services':'Services', \n",
        "       'Finance and Insurance':'Finance',\n",
        "       'Health Care and Social Assistance':'Services', \n",
        "       'Information':'Services',\n",
        "       'Manufacturing':'Manufacturing', \n",
        "       'Mining, Quarrying, and Oil and Gas Extraction':'Mining',\n",
        "       'Other Services (except Public Administration)':'Services',\n",
        "       'Professional, Scientific, and Technical Services':'Services',\n",
        "       'Real Estate and Rental and Leasing':'Finance', \n",
        "       'Retail Trade':'Comercial',\n",
        "       'Transportation and Warehousing':'Services', \n",
        "       'Utilities':'Energy', \n",
        "       'Wholesale Trade':'Comercial'}"
      ]
    },
    {
      "cell_type": "code",
      "execution_count": 3,
      "metadata": {
        "colab": {
          "base_uri": "https://localhost:8080/"
        },
        "id": "Ssx1rWlu4hTW",
        "outputId": "b34c7474-827e-4fc1-971f-5bee6bcfe352"
      },
      "outputs": [],
      "source": [
        "if(isGoogleColab):\n",
        "    drive.mount(\"/content/gdrive\") \n",
        "    %cd \"/content/gdrive/MyDrive/Machine Learning/deliver/M1\"\n",
        "df = pd.read_csv('us2022q2a.csv')\n",
        "df_firm = pd.read_csv('usfirms2022.csv')"
      ]
    },
    {
      "cell_type": "code",
      "execution_count": null,
      "metadata": {
        "id": "27Tcu-rg3-Kx"
      },
      "outputs": [],
      "source": [
        "bIsAproachNew = False\n",
        "\n",
        "df_more = df.copy()\n",
        "\n",
        "#put industry column\n",
        "firm_list = df['firm'].unique()\n",
        "firm_list = firm_list.tolist()\n",
        "firm_list.remove(np.nan)\n",
        "df_firm_more = df_firm.copy()\n",
        "df_firm_more['industry'] = df_firm_more['Sector NAICS\\nlevel 1']\n",
        "df_firm_more = df_firm_more.replace({'industry': industry_dict})\n",
        "\n",
        "firm_industry_dic = {}\n",
        "\n",
        "if(bIsAproachNew):\n",
        "  firm_industry_dic_temp = {}\n",
        "\n",
        "  for count in range(df_firm_more['Ticker'].count()):\n",
        "    firm_industry_dic_temp[df_firm_more['Ticker'][count]] = df_firm_more['industry'][count]\n",
        "\n",
        "  #print(firm_industry_dic_temp)\n",
        "else:\n",
        "  for firm in firm_list:\n",
        "    if (len((df_firm_more[df_firm_more['Ticker'] == firm]['industry']).values.tolist()) > 0):\n",
        "      firm_industry_dic[firm] = ((df_firm_more[df_firm_more['Ticker'] == firm]['industry']).values.tolist())[0]\n",
        "    else:\n",
        "      firm_industry_dic[firm] = np.nan\n",
        "\n",
        "for firm in firm_list:\n",
        "    if(bIsAproachNew):\n",
        "      if((len(firm) > 0) and (firm in firm_industry_dic_temp)):\n",
        "        firm_industry_dic[firm] = firm_industry_dic_temp[firm]\n",
        "      #else:\n",
        "      #  firm_industry_dic[firm] = np.nan\n",
        "    else:\n",
        "      if(len(firm) > 0):\n",
        "        #firm_industry_dic[firm] = ((df_firm_more[df_firm_more['Ticker'] == firm]['industry']).values.tolist())[0]\n",
        "        temp_df = df_firm_more[df_firm_more['Ticker'] == firm]\n",
        "        if(temp_df['industry'].count() > 0):\n",
        "          firm_industry_dic[firm] = temp_df['industry'].tolist()[0]\n",
        "      #else:\n",
        "      #  firm_industry_dic[firm] = np.nan\n",
        "\n",
        "df_more['industry'] = df_more['firm']\n",
        "df_more = df_more.replace({'industry': firm_industry_dic})\n",
        "\n",
        "\n",
        "#put country column\n",
        "firm_country_dict = {}\n",
        "for count in range(df_firm['Ticker'].count()):\n",
        "    firm = df_firm['Ticker'][count]\n",
        "    country = df_firm['Country\\nof Origin'][count]\n",
        "    firm_country_dict[firm] = country\n",
        "\n",
        "df_more['country'] = df_more['firm']\n",
        "df_more = df_more.replace({'country':firm_country_dict})\n",
        "df_more = df_more.dropna(how='all')\n",
        "#df_more"
      ]
    },
    {
      "cell_type": "code",
      "execution_count": 5,
      "metadata": {
        "id": "rvrV9frbpN4l"
      },
      "outputs": [],
      "source": [
        "\n",
        "\n",
        "#Calculate bookvalue\n",
        "df_more['bookvalue'] = df_more['totalassets'] - df_more['totalliabilities']\n",
        "\n",
        "#Calculate Market Value\n",
        "df_more['marketvalue'] = df_more['originalprice'] * df_more['sharesoutstanding']\n",
        "\n",
        "#Calculate Operating profit margin\n",
        "df_more['op_profit'] = df_more['revenue'] - df_more['cogs'] - df_more['sgae'] - df_more['otheropexp']\n",
        "df_more['op_profit_margin'] = df_more['op_profit'] / df_more['revenue']\n",
        "df_more['net_income'] = df_more['op_profit'] - df_more['incometax'] - df_more['finexp'] + df_more['extraincome']\n",
        "df_more['profit_margin'] = df_more['net_income'] / df_more['revenue']\n",
        "\n",
        "#Calculate CC Return\n",
        "df_more['anual_cc_return'] = np.log(df_more['adjprice']) - np.log(df_more['adjprice'].shift(4))\n",
        "\n",
        "#add Date\n",
        "df_more['date'] = pd.to_datetime(df_more['q'])\n",
        "\n",
        "#Earning Per Share\n",
        "df_more['eps'] = df_more['net_income'] / df_more['sharesoutstanding']\n",
        "\n",
        "#Calculate the short term leverage\n",
        "\n",
        "#Calculate the ratio of bookvalue and market value\n"
      ]
    },
    {
      "cell_type": "code",
      "execution_count": null,
      "metadata": {
        "colab": {
          "base_uri": "https://localhost:8080/",
          "height": 299
        },
        "id": "R_0hUYar5qk0",
        "outputId": "d4178345-b05b-4519-8508-985878ad8379"
      },
      "outputs": [],
      "source": [
        "#df_more.head()"
      ]
    },
    {
      "cell_type": "code",
      "execution_count": null,
      "metadata": {
        "id": "RnAi5S-_5vAT"
      },
      "outputs": [],
      "source": [
        "industry_list = df_more['industry'].unique()\n",
        "industry_list = industry_list.tolist()\n",
        "del industry_list[-1]\n",
        "del industry_list[-1]\n",
        "#industry_list"
      ]
    },
    {
      "cell_type": "markdown",
      "metadata": {},
      "source": [
        "# ***Specific questions:***  \n",
        "## ***About descriptive statistics:***\n",
        "### ***Considering the most recent financial quarter of the dataset:***"
      ]
    },
    {
      "cell_type": "markdown",
      "metadata": {},
      "source": [
        "#### ***Show how many firms by industry there are in the sample***  \n",
        "IT IS SHOWN IN THE TABLE BELOW"
      ]
    },
    {
      "cell_type": "code",
      "execution_count": 8,
      "metadata": {
        "id": "37SvRYc60twh"
      },
      "outputs": [
        {
          "data": {
            "text/html": [
              "<div>\n",
              "<style scoped>\n",
              "    .dataframe tbody tr th:only-of-type {\n",
              "        vertical-align: middle;\n",
              "    }\n",
              "\n",
              "    .dataframe tbody tr th {\n",
              "        vertical-align: top;\n",
              "    }\n",
              "\n",
              "    .dataframe thead th {\n",
              "        text-align: right;\n",
              "    }\n",
              "</style>\n",
              "<table border=\"1\" class=\"dataframe\">\n",
              "  <thead>\n",
              "    <tr style=\"text-align: right;\">\n",
              "      <th></th>\n",
              "      <th>Industry</th>\n",
              "      <th>firm num</th>\n",
              "    </tr>\n",
              "  </thead>\n",
              "  <tbody>\n",
              "    <tr>\n",
              "      <th>0</th>\n",
              "      <td>Manufacturing</td>\n",
              "      <td>1565</td>\n",
              "    </tr>\n",
              "    <tr>\n",
              "      <th>1</th>\n",
              "      <td>Finance</td>\n",
              "      <td>769</td>\n",
              "    </tr>\n",
              "    <tr>\n",
              "      <th>2</th>\n",
              "      <td>Services</td>\n",
              "      <td>792</td>\n",
              "    </tr>\n",
              "    <tr>\n",
              "      <th>3</th>\n",
              "      <td>Comercial</td>\n",
              "      <td>231</td>\n",
              "    </tr>\n",
              "    <tr>\n",
              "      <th>4</th>\n",
              "      <td>Energy</td>\n",
              "      <td>77</td>\n",
              "    </tr>\n",
              "    <tr>\n",
              "      <th>5</th>\n",
              "      <td>Construction</td>\n",
              "      <td>45</td>\n",
              "    </tr>\n",
              "    <tr>\n",
              "      <th>6</th>\n",
              "      <td>Agriculture</td>\n",
              "      <td>16</td>\n",
              "    </tr>\n",
              "    <tr>\n",
              "      <th>7</th>\n",
              "      <td>Mining</td>\n",
              "      <td>103</td>\n",
              "    </tr>\n",
              "  </tbody>\n",
              "</table>\n",
              "</div>"
            ],
            "text/plain": [
              "        Industry  firm num\n",
              "0  Manufacturing      1565\n",
              "1        Finance       769\n",
              "2       Services       792\n",
              "3      Comercial       231\n",
              "4         Energy        77\n",
              "5   Construction        45\n",
              "6    Agriculture        16\n",
              "7         Mining       103"
            ]
          },
          "execution_count": 8,
          "metadata": {},
          "output_type": "execute_result"
        }
      ],
      "source": [
        "#Show how many firms by industry there are in the sample\n",
        "industry_firm_num = []\n",
        "for industry in industry_list:\n",
        "  industry_firm_num.append(len(df_more[df_more['industry'] == industry]['firm'].unique()))\n",
        "\n",
        "df_industry_firm_num = pd.DataFrame({'Industry':industry_list,'firm num':industry_firm_num})\n",
        "df_industry_firm_num"
      ]
    },
    {
      "cell_type": "markdown",
      "metadata": {
        "id": "azuRfQBJ4Njm"
      },
      "source": [
        "#### ***For each industry (and for all industries),***  \n",
        "#### ***what can you say about the typical firm size in terms of market value and book value?***\n",
        "\n",
        "WE ANALYZED THE LAST QUATER OF THE ***MARKET VALUE*** AND ***BOOK VALUE*** OF ALL THE FIRMS FOR EACH INDUSTRY,  \n",
        "FROM THE BOXPLOT, WE CAN SEE THE BOOK VALUE OF FIRMS ARE ***VERY DISPERSIVE***,  \n",
        "FOR BOOK VALUE, STANDARD ERROR IS 11.6 BILLION, BUT 50% OF THE FIRMS ARE BETWEEN 74 MILLION TO 1.6 BILLION  \n",
        "FOR MARKET VALUE, STANDARD ERROR IS 74 BILLION, BUT 50% OF THE FIRMS ARE BETWEEN 180 MILLION TO 5 BILLION  \n",
        "SO WE ARE GOING TO USE THE ***MEDIAN VALUE*** OF THE ***MARKET VALUE*** AND ***BOOK VALUE***,  \n",
        "TO INDICATE THE TYPICAL FIRM SIZE OF EACH INDUSTRY\n"
      ]
    },
    {
      "cell_type": "markdown",
      "metadata": {},
      "source": [
        "THE TYPICAL FIRM SIZE OF EACH INDUSTRY IS SHOWN BELOW"
      ]
    },
    {
      "cell_type": "code",
      "execution_count": 9,
      "metadata": {
        "id": "09SQumqV4LYo"
      },
      "outputs": [],
      "source": [
        "df_final_size = df_more.dropna()\n",
        "df_final_size = df_final_size.groupby('firm').last()\n",
        "#df_final_size"
      ]
    },
    {
      "cell_type": "code",
      "execution_count": 10,
      "metadata": {
        "colab": {
          "base_uri": "https://localhost:8080/",
          "height": 331
        },
        "id": "41JzQKeV84sA",
        "outputId": "a748f86e-6e5f-4ddc-8ca4-0d480f589031"
      },
      "outputs": [
        {
          "data": {
            "text/html": [
              "<div>\n",
              "<style scoped>\n",
              "    .dataframe tbody tr th:only-of-type {\n",
              "        vertical-align: middle;\n",
              "    }\n",
              "\n",
              "    .dataframe tbody tr th {\n",
              "        vertical-align: top;\n",
              "    }\n",
              "\n",
              "    .dataframe thead th {\n",
              "        text-align: right;\n",
              "    }\n",
              "</style>\n",
              "<table border=\"1\" class=\"dataframe\">\n",
              "  <thead>\n",
              "    <tr style=\"text-align: right;\">\n",
              "      <th></th>\n",
              "      <th>bookvalue</th>\n",
              "      <th>marketvalue</th>\n",
              "    </tr>\n",
              "    <tr>\n",
              "      <th>industry</th>\n",
              "      <th></th>\n",
              "      <th></th>\n",
              "    </tr>\n",
              "  </thead>\n",
              "  <tbody>\n",
              "    <tr>\n",
              "      <th>Agriculture</th>\n",
              "      <td>1068506.5</td>\n",
              "      <td>1.264045e+06</td>\n",
              "    </tr>\n",
              "    <tr>\n",
              "      <th>Comercial</th>\n",
              "      <td>679144.0</td>\n",
              "      <td>1.487280e+06</td>\n",
              "    </tr>\n",
              "    <tr>\n",
              "      <th>Construction</th>\n",
              "      <td>998146.5</td>\n",
              "      <td>1.900822e+06</td>\n",
              "    </tr>\n",
              "    <tr>\n",
              "      <th>Energy</th>\n",
              "      <td>2914350.5</td>\n",
              "      <td>6.355661e+06</td>\n",
              "    </tr>\n",
              "    <tr>\n",
              "      <th>Finance</th>\n",
              "      <td>1038181.0</td>\n",
              "      <td>1.785152e+06</td>\n",
              "    </tr>\n",
              "    <tr>\n",
              "      <th>Manufacturing</th>\n",
              "      <td>246405.0</td>\n",
              "      <td>6.529413e+05</td>\n",
              "    </tr>\n",
              "    <tr>\n",
              "      <th>Mining</th>\n",
              "      <td>693059.0</td>\n",
              "      <td>1.056557e+06</td>\n",
              "    </tr>\n",
              "    <tr>\n",
              "      <th>Services</th>\n",
              "      <td>457566.0</td>\n",
              "      <td>1.956561e+06</td>\n",
              "    </tr>\n",
              "  </tbody>\n",
              "</table>\n",
              "</div>"
            ],
            "text/plain": [
              "               bookvalue   marketvalue\n",
              "industry                              \n",
              "Agriculture    1068506.5  1.264045e+06\n",
              "Comercial       679144.0  1.487280e+06\n",
              "Construction    998146.5  1.900822e+06\n",
              "Energy         2914350.5  6.355661e+06\n",
              "Finance        1038181.0  1.785152e+06\n",
              "Manufacturing   246405.0  6.529413e+05\n",
              "Mining          693059.0  1.056557e+06\n",
              "Services        457566.0  1.956561e+06"
            ]
          },
          "execution_count": 10,
          "metadata": {},
          "output_type": "execute_result"
        }
      ],
      "source": [
        "df_final_size.groupby('industry').median()[['bookvalue', 'marketvalue']]"
      ]
    },
    {
      "cell_type": "markdown",
      "metadata": {},
      "source": [
        "THE TYPICAL FIRM SIZE OF EACH INDUSTRY IS SHOWN BELOW  \n",
        "TYPICAL BOOK VALUE IS ***401 MILLION***  \n",
        "TYPICAL MARKET VALUE IS ***1.17 BILLION***"
      ]
    },
    {
      "cell_type": "code",
      "execution_count": 243,
      "metadata": {},
      "outputs": [
        {
          "data": {
            "text/plain": [
              "bookvalue      4.014335e+05\n",
              "marketvalue    1.174999e+06\n",
              "dtype: float64"
            ]
          },
          "execution_count": 243,
          "metadata": {},
          "output_type": "execute_result"
        }
      ],
      "source": [
        "df_final_size[['bookvalue', 'marketvalue']].median()"
      ]
    },
    {
      "cell_type": "markdown",
      "metadata": {},
      "source": [
        "#### ***How much these variables change within each industry?***  \n",
        "***MANUFACTURING***  \n",
        "***BOOK VALUE***  \n",
        "50% OF THE FIRMS ARE BETWEEN 48 MILLION TO 1.0 BILLION,  \n",
        "MEDIAN IS 246 MILLION  \n",
        "MAX IS 184 BILLION  \n",
        "MIN IS -14.8 BILLION  \n",
        "***SERVICE***  \n",
        "***BOOK VALUE***  \n",
        "50% OF THE FIRMS ARE BETWEEN 93.5 MILLION TO 1.66 BILLION,  \n",
        "MEDIAN IS 457 MILLION  \n",
        "MAX IS 255 BILLION  \n",
        "MIN IS -8 BILLION  \n",
        "***COMERCIAL***  \n",
        "***BOOK VALUE***  \n",
        "50% OF THE FIRMS ARE BETWEEN 168 MILLION TO 1.76 BILLION,  \n",
        "MEDIAN IS 679 MILLION  \n",
        "MAX IS 131 BILLION  \n",
        "MIN IS -6.9 BILLION  \n",
        "***FINANCE***  \n",
        "***BOOK VALUE***  \n",
        "50% OF THE FIRMS ARE BETWEEN 215 MILLION TO 3.2 BILLION,  \n",
        "MEDIAN IS 1.0 BILLION  \n",
        "MAX IS 76.2 BILLION  \n",
        "MIN IS -5.4 BILLION  \n",
        "***ENERGY***  \n",
        "***BOOK VALUE***  \n",
        "50% OF THE FIRMS ARE BETWEEN 1.0 BILLION TO 10.0 BILLION,  \n",
        "MEDIAN IS 2.9 BILLION  \n",
        "MAX IS 51.6 BILLION  \n",
        "MIN IS -1.2 BILLION  \n",
        "***CONSTRAUCTION***  \n",
        "***BOOK VALUE***  \n",
        "50% OF THE FIRMS ARE BETWEEN 409.8 MILLION TO 2.7 BILLION,  \n",
        "MEDIAN IS 1.0 BILLION  \n",
        "MAX IS 21.8 BILLION  \n",
        "MIN IS 83.1 MILLION  \n",
        "***AGRICULTURE***  \n",
        "***BOOK VALUE***  \n",
        "50% OF THE FIRMS ARE BETWEEN 202 MILLION TO 3.3 BILLION,  \n",
        "MEDIAN IS 1.1 BILLION  \n",
        "MAX IS 26.1 BILLION  \n",
        "MIN IS 14.8 MILLION  \n",
        "***MINING***  \n",
        "***BOOK VALUE***  \n",
        "50% OF THE FIRMS ARE BETWEEN 117.7 MILLION TO 2.86 BILLION,  \n",
        "MEDIAN IS 693 MILLION  \n",
        "MAX IS 27.8 BILLION  \n",
        "MIN IS -124 MILLION  "
      ]
    },
    {
      "cell_type": "code",
      "execution_count": 279,
      "metadata": {
        "colab": {
          "base_uri": "https://localhost:8080/",
          "height": 542
        },
        "id": "MfBnFe-r6lF4",
        "outputId": "c439fb35-5944-4482-9b57-53ad8f81d8ff"
      },
      "outputs": [
        {
          "data": {
            "image/png": "[encoded data removed]",
            "text/plain": [
              "<Figure size 1200x400 with 1 Axes>"
            ]
          },
          "metadata": {},
          "output_type": "display_data"
        }
      ],
      "source": [
        "#px.box(df_final_size, x='industry', y='bookvalue', title='Book Value of all industries')\n",
        "df_final_size.boxplot(column='bookvalue', by='industry', figsize=(12, 4))\n",
        "plt.title('Book Value of all industries')\n",
        "plt.suptitle('')\n",
        "plt.show()"
      ]
    },
    {
      "cell_type": "code",
      "execution_count": 280,
      "metadata": {
        "colab": {
          "base_uri": "https://localhost:8080/",
          "height": 542
        },
        "id": "SdLOeWbB7Z6B",
        "outputId": "9dd58438-aac2-4358-b8a0-15af33c7b64e"
      },
      "outputs": [
        {
          "data": {
            "image/png": "[encoded data removed]",
            "text/plain": [
              "<Figure size 1200x400 with 1 Axes>"
            ]
          },
          "metadata": {},
          "output_type": "display_data"
        }
      ],
      "source": [
        "#px.box(df_final_size, x='industry', y='marketvalue', title='Market Value of all industries')\n",
        "df_final_size.boxplot(column='marketvalue', by='industry', figsize=(12, 4))\n",
        "plt.title('Market Value of all industries')\n",
        "plt.suptitle('')\n",
        "plt.show()"
      ]
    },
    {
      "cell_type": "markdown",
      "metadata": {},
      "source": [
        "#### ***How firm size (in market value) is distributed?***  \n",
        "FOR MARKET VALUE,  \n",
        "STANDARD ERROR IS 74 BILLION,  \n",
        "BUT 50% OF THE FIRMS ARE BETWEEN 180 MILLION TO 5 BILLION  \n",
        "MEDIAN IS 1.175 BILLION  \n",
        "MAX IS 2.2 TRILLION  \n",
        "MIN IS 35 THOUSAND"
      ]
    },
    {
      "cell_type": "code",
      "execution_count": 282,
      "metadata": {},
      "outputs": [
        {
          "data": {
            "image/png": "[encoded data removed]",
            "text/plain": [
              "<Figure size 600x400 with 1 Axes>"
            ]
          },
          "metadata": {},
          "output_type": "display_data"
        }
      ],
      "source": [
        "#px.box(df_final_size, y='marketvalue', title='Market Value Distribution')\n",
        "df_final_size.boxplot(column='marketvalue', figsize=(6, 4))\n",
        "plt.title('Market Value Distribution')\n",
        "plt.suptitle('')\n",
        "plt.show()"
      ]
    },
    {
      "cell_type": "code",
      "execution_count": null,
      "metadata": {},
      "outputs": [
        {
          "data": {
            "text/plain": [
              "count    2.792000e+03\n",
              "mean     1.250613e+07\n",
              "std      7.397673e+07\n",
              "min      3.490000e+01\n",
              "25%      1.796944e+05\n",
              "50%      1.174999e+06\n",
              "75%      5.024743e+06\n",
              "max      2.212838e+09\n",
              "Name: marketvalue, dtype: float64"
            ]
          },
          "metadata": {},
          "output_type": "display_data"
        }
      ],
      "source": [
        "df_final_size['marketvalue'].describe()"
      ]
    },
    {
      "cell_type": "code",
      "execution_count": null,
      "metadata": {},
      "outputs": [
        {
          "data": {
            "text/plain": [
              "count    2.792000e+03\n",
              "mean     2.951381e+06\n",
              "std      1.157892e+07\n",
              "min     -1.479100e+07\n",
              "25%      7.414621e+04\n",
              "50%      4.014335e+05\n",
              "75%      1.582302e+06\n",
              "max      2.554190e+08\n",
              "Name: bookvalue, dtype: float64"
            ]
          },
          "metadata": {},
          "output_type": "display_data"
        }
      ],
      "source": [
        "df_final_size['bookvalue'].describe()"
      ]
    },
    {
      "cell_type": "markdown",
      "metadata": {
        "id": "yp3d3aFq-w4l"
      },
      "source": [
        "#### ***For each industry (and for all industries),***  \n",
        "#### ***what can you say about profit margin of firms?***  \n",
        "THE PROFIT MARGIN IS THE NET INCOMRE DIVIDED BY REVENUE,  \n",
        "IT INDICATE HOW PROFITABLE IS THE SALE"
      ]
    },
    {
      "cell_type": "markdown",
      "metadata": {},
      "source": [
        "##### ***a) descriptive statistics of profit margin and for the profit margin for the last quater of all industry***  \n",
        "IT IS SHOWN IN THE TABLE BELOW"
      ]
    },
    {
      "cell_type": "code",
      "execution_count": 248,
      "metadata": {},
      "outputs": [
        {
          "data": {
            "text/html": [
              "<div>\n",
              "<style scoped>\n",
              "    .dataframe tbody tr th:only-of-type {\n",
              "        vertical-align: middle;\n",
              "    }\n",
              "\n",
              "    .dataframe tbody tr th {\n",
              "        vertical-align: top;\n",
              "    }\n",
              "\n",
              "    .dataframe thead th {\n",
              "        text-align: right;\n",
              "    }\n",
              "</style>\n",
              "<table border=\"1\" class=\"dataframe\">\n",
              "  <thead>\n",
              "    <tr style=\"text-align: right;\">\n",
              "      <th></th>\n",
              "      <th>count</th>\n",
              "      <th>mean</th>\n",
              "      <th>std</th>\n",
              "      <th>min</th>\n",
              "      <th>25%</th>\n",
              "      <th>50%</th>\n",
              "      <th>75%</th>\n",
              "      <th>max</th>\n",
              "    </tr>\n",
              "  </thead>\n",
              "  <tbody>\n",
              "    <tr>\n",
              "      <th>Manufacturing</th>\n",
              "      <td>1223.0</td>\n",
              "      <td>-18.590992</td>\n",
              "      <td>139.421238</td>\n",
              "      <td>-2702.514286</td>\n",
              "      <td>-0.609702</td>\n",
              "      <td>0.017637</td>\n",
              "      <td>0.099516</td>\n",
              "      <td>123.970175</td>\n",
              "    </tr>\n",
              "    <tr>\n",
              "      <th>Finance</th>\n",
              "      <td>173.0</td>\n",
              "      <td>-1.054628</td>\n",
              "      <td>10.211508</td>\n",
              "      <td>-130.500000</td>\n",
              "      <td>-0.016331</td>\n",
              "      <td>0.083146</td>\n",
              "      <td>0.186623</td>\n",
              "      <td>1.120822</td>\n",
              "    </tr>\n",
              "    <tr>\n",
              "      <th>Services</th>\n",
              "      <td>716.0</td>\n",
              "      <td>-1.076254</td>\n",
              "      <td>12.230255</td>\n",
              "      <td>-291.714734</td>\n",
              "      <td>-0.148159</td>\n",
              "      <td>0.018189</td>\n",
              "      <td>0.094784</td>\n",
              "      <td>5.395082</td>\n",
              "    </tr>\n",
              "    <tr>\n",
              "      <th>Comercial</th>\n",
              "      <td>220.0</td>\n",
              "      <td>-0.000819</td>\n",
              "      <td>0.302966</td>\n",
              "      <td>-2.549859</td>\n",
              "      <td>0.006695</td>\n",
              "      <td>0.037644</td>\n",
              "      <td>0.074067</td>\n",
              "      <td>1.014139</td>\n",
              "    </tr>\n",
              "    <tr>\n",
              "      <th>Energy</th>\n",
              "      <td>75.0</td>\n",
              "      <td>-0.371223</td>\n",
              "      <td>3.528162</td>\n",
              "      <td>-29.637838</td>\n",
              "      <td>0.047933</td>\n",
              "      <td>0.090954</td>\n",
              "      <td>0.156109</td>\n",
              "      <td>1.548913</td>\n",
              "    </tr>\n",
              "    <tr>\n",
              "      <th>Construction</th>\n",
              "      <td>44.0</td>\n",
              "      <td>0.071604</td>\n",
              "      <td>0.121165</td>\n",
              "      <td>-0.438356</td>\n",
              "      <td>0.022316</td>\n",
              "      <td>0.076800</td>\n",
              "      <td>0.134525</td>\n",
              "      <td>0.385378</td>\n",
              "    </tr>\n",
              "    <tr>\n",
              "      <th>Agriculture</th>\n",
              "      <td>16.0</td>\n",
              "      <td>-0.046275</td>\n",
              "      <td>0.286728</td>\n",
              "      <td>-0.979005</td>\n",
              "      <td>-0.035681</td>\n",
              "      <td>0.025442</td>\n",
              "      <td>0.106148</td>\n",
              "      <td>0.185485</td>\n",
              "    </tr>\n",
              "    <tr>\n",
              "      <th>Mining</th>\n",
              "      <td>96.0</td>\n",
              "      <td>0.117230</td>\n",
              "      <td>3.550048</td>\n",
              "      <td>-18.578947</td>\n",
              "      <td>0.017343</td>\n",
              "      <td>0.222677</td>\n",
              "      <td>0.385259</td>\n",
              "      <td>26.769638</td>\n",
              "    </tr>\n",
              "  </tbody>\n",
              "</table>\n",
              "</div>"
            ],
            "text/plain": [
              "                count       mean         std          min       25%       50%  \\\n",
              "Manufacturing  1223.0 -18.590992  139.421238 -2702.514286 -0.609702  0.017637   \n",
              "Finance         173.0  -1.054628   10.211508  -130.500000 -0.016331  0.083146   \n",
              "Services        716.0  -1.076254   12.230255  -291.714734 -0.148159  0.018189   \n",
              "Comercial       220.0  -0.000819    0.302966    -2.549859  0.006695  0.037644   \n",
              "Energy           75.0  -0.371223    3.528162   -29.637838  0.047933  0.090954   \n",
              "Construction     44.0   0.071604    0.121165    -0.438356  0.022316  0.076800   \n",
              "Agriculture      16.0  -0.046275    0.286728    -0.979005 -0.035681  0.025442   \n",
              "Mining           96.0   0.117230    3.550048   -18.578947  0.017343  0.222677   \n",
              "\n",
              "                    75%         max  \n",
              "Manufacturing  0.099516  123.970175  \n",
              "Finance        0.186623    1.120822  \n",
              "Services       0.094784    5.395082  \n",
              "Comercial      0.074067    1.014139  \n",
              "Energy         0.156109    1.548913  \n",
              "Construction   0.134525    0.385378  \n",
              "Agriculture    0.106148    0.185485  \n",
              "Mining         0.385259   26.769638  "
            ]
          },
          "execution_count": 248,
          "metadata": {},
          "output_type": "execute_result"
        }
      ],
      "source": [
        "desc_dict = {'count':[], 'mean':[], 'std':[], 'min':[], '25%':[], '50%':[], '75%':[], 'max':[]}\n",
        "\n",
        "df_final_size.replace([np.inf, -np.inf], np.nan, inplace=True)\n",
        "df_final_size.dropna(subset=['profit_margin'])\n",
        "\n",
        "for industry in industry_list:\n",
        "    description = df_final_size[df_final_size['industry'] == industry]['profit_margin'].describe()\n",
        "    for key in list(desc_dict.keys()):\n",
        "        desc_dict[key].append(description[key])\n",
        "    #desc_list.append(description)\n",
        "    #print(industry)\n",
        "    #print(description)\n",
        "    #print('\\n')\n",
        "\n",
        "df_profit_margin = pd.DataFrame(desc_dict, index = industry_list)\n",
        "df_profit_margin"
      ]
    },
    {
      "cell_type": "markdown",
      "metadata": {},
      "source": [
        "##### ***b) plot(s) to illustrate how profit margin changes across industries.***  \n",
        "IT IS SHOWN IN THE BOXPLOT BELOW"
      ]
    },
    {
      "cell_type": "code",
      "execution_count": 278,
      "metadata": {
        "colab": {
          "base_uri": "https://localhost:8080/",
          "height": 542
        },
        "id": "JCax2p0-_a65",
        "outputId": "4fecfe4e-c754-4180-d1b3-687623bc97b1"
      },
      "outputs": [
        {
          "data": {
            "image/png": "[encoded data removed]",
            "text/plain": [
              "<Figure size 1200x400 with 1 Axes>"
            ]
          },
          "metadata": {},
          "output_type": "display_data"
        }
      ],
      "source": [
        "#px.box(df_final_size, x='industry', y='profit_margin', title='Profit Margin of all industries')\n",
        "df_final_size.boxplot(column='profit_margin', by='industry', figsize=(12, 4))\n",
        "plt.title('Profit Margin of all industries')\n",
        "plt.suptitle('')\n",
        "plt.show()\n"
      ]
    },
    {
      "cell_type": "markdown",
      "metadata": {
        "id": "ERkzAGfBAEBF"
      },
      "source": [
        "#### ***Which are the biggest 10 US firms in terms of market value***"
      ]
    },
    {
      "cell_type": "markdown",
      "metadata": {},
      "source": [
        "THE BIGGEST US FIRMS FOR EACH INDUSTRY"
      ]
    },
    {
      "cell_type": "code",
      "execution_count": 16,
      "metadata": {
        "id": "PnHF485OCMw9"
      },
      "outputs": [
        {
          "data": {
            "text/html": [
              "<div>\n",
              "<style scoped>\n",
              "    .dataframe tbody tr th:only-of-type {\n",
              "        vertical-align: middle;\n",
              "    }\n",
              "\n",
              "    .dataframe tbody tr th {\n",
              "        vertical-align: top;\n",
              "    }\n",
              "\n",
              "    .dataframe thead th {\n",
              "        text-align: right;\n",
              "    }\n",
              "</style>\n",
              "<table border=\"1\" class=\"dataframe\">\n",
              "  <thead>\n",
              "    <tr style=\"text-align: right;\">\n",
              "      <th></th>\n",
              "      <th>Manufacturing_firm</th>\n",
              "      <th>Manufacturing_marketvalue</th>\n",
              "      <th>Finance_firm</th>\n",
              "      <th>Finance_marketvalue</th>\n",
              "      <th>Services_firm</th>\n",
              "      <th>Services_marketvalue</th>\n",
              "      <th>Comercial_firm</th>\n",
              "      <th>Comercial_marketvalue</th>\n",
              "      <th>Energy_firm</th>\n",
              "      <th>Energy_marketvalue</th>\n",
              "      <th>Construction_firm</th>\n",
              "      <th>Construction_marketvalue</th>\n",
              "      <th>Agriculture_firm</th>\n",
              "      <th>Agriculture_marketvalue</th>\n",
              "      <th>Mining_firm</th>\n",
              "      <th>Mining_marketvalue</th>\n",
              "    </tr>\n",
              "  </thead>\n",
              "  <tbody>\n",
              "    <tr>\n",
              "      <th>0</th>\n",
              "      <td>AAPL</td>\n",
              "      <td>2.212838e+09</td>\n",
              "      <td>UNH</td>\n",
              "      <td>4.818731e+08</td>\n",
              "      <td>MSFT</td>\n",
              "      <td>1.920840e+09</td>\n",
              "      <td>AMZN</td>\n",
              "      <td>1.080624e+09</td>\n",
              "      <td>NEE</td>\n",
              "      <td>1.521918e+08</td>\n",
              "      <td>DHI</td>\n",
              "      <td>2.330088e+07</td>\n",
              "      <td>GIS</td>\n",
              "      <td>4.505560e+07</td>\n",
              "      <td>EOG</td>\n",
              "      <td>6.468620e+07</td>\n",
              "    </tr>\n",
              "    <tr>\n",
              "      <th>1</th>\n",
              "      <td>TSLA</td>\n",
              "      <td>6.976698e+08</td>\n",
              "      <td>AMT</td>\n",
              "      <td>1.166213e+08</td>\n",
              "      <td>GOOGL</td>\n",
              "      <td>1.435042e+09</td>\n",
              "      <td>WMT</td>\n",
              "      <td>3.332690e+08</td>\n",
              "      <td>DUK</td>\n",
              "      <td>8.254103e+07</td>\n",
              "      <td>LEN</td>\n",
              "      <td>2.056314e+07</td>\n",
              "      <td>CTVA</td>\n",
              "      <td>3.918112e+07</td>\n",
              "      <td>OXY</td>\n",
              "      <td>5.484625e+07</td>\n",
              "    </tr>\n",
              "    <tr>\n",
              "      <th>2</th>\n",
              "      <td>JNJ</td>\n",
              "      <td>4.671001e+08</td>\n",
              "      <td>ELV</td>\n",
              "      <td>1.163427e+08</td>\n",
              "      <td>META</td>\n",
              "      <td>4.363946e+08</td>\n",
              "      <td>HD</td>\n",
              "      <td>2.818823e+08</td>\n",
              "      <td>D</td>\n",
              "      <td>6.474749e+07</td>\n",
              "      <td>PWR</td>\n",
              "      <td>1.801249e+07</td>\n",
              "      <td>K</td>\n",
              "      <td>2.410383e+07</td>\n",
              "      <td>PXD</td>\n",
              "      <td>5.397621e+07</td>\n",
              "    </tr>\n",
              "    <tr>\n",
              "      <th>3</th>\n",
              "      <td>NVDA</td>\n",
              "      <td>3.789750e+08</td>\n",
              "      <td>BLK</td>\n",
              "      <td>9.227154e+07</td>\n",
              "      <td>V</td>\n",
              "      <td>3.743426e+08</td>\n",
              "      <td>COST</td>\n",
              "      <td>2.123033e+08</td>\n",
              "      <td>SO</td>\n",
              "      <td>6.406955e+07</td>\n",
              "      <td>J</td>\n",
              "      <td>1.635238e+07</td>\n",
              "      <td>INGR</td>\n",
              "      <td>5.837918e+06</td>\n",
              "      <td>SLB</td>\n",
              "      <td>5.057852e+07</td>\n",
              "    </tr>\n",
              "    <tr>\n",
              "      <th>4</th>\n",
              "      <td>XOM</td>\n",
              "      <td>3.569164e+08</td>\n",
              "      <td>CI</td>\n",
              "      <td>8.360790e+07</td>\n",
              "      <td>MA</td>\n",
              "      <td>3.068500e+08</td>\n",
              "      <td>CVS</td>\n",
              "      <td>1.215059e+08</td>\n",
              "      <td>AEP</td>\n",
              "      <td>4.926943e+07</td>\n",
              "      <td>NVR</td>\n",
              "      <td>1.317228e+07</td>\n",
              "      <td>POST</td>\n",
              "      <td>5.002324e+06</td>\n",
              "      <td>NEM</td>\n",
              "      <td>4.735716e+07</td>\n",
              "    </tr>\n",
              "    <tr>\n",
              "      <th>5</th>\n",
              "      <td>PG</td>\n",
              "      <td>3.449949e+08</td>\n",
              "      <td>MMC</td>\n",
              "      <td>7.792211e+07</td>\n",
              "      <td>VZ</td>\n",
              "      <td>2.131355e+08</td>\n",
              "      <td>LOW</td>\n",
              "      <td>1.116366e+08</td>\n",
              "      <td>SRE</td>\n",
              "      <td>4.723057e+07</td>\n",
              "      <td>PHM</td>\n",
              "      <td>9.417149e+06</td>\n",
              "      <td>CALM</td>\n",
              "      <td>2.418139e+06</td>\n",
              "      <td>FCX</td>\n",
              "      <td>4.240542e+07</td>\n",
              "    </tr>\n",
              "    <tr>\n",
              "      <th>6</th>\n",
              "      <td>LLY</td>\n",
              "      <td>3.080702e+08</td>\n",
              "      <td>NFLX</td>\n",
              "      <td>7.776567e+07</td>\n",
              "      <td>ORCL</td>\n",
              "      <td>1.861984e+08</td>\n",
              "      <td>TGT</td>\n",
              "      <td>6.548784e+07</td>\n",
              "      <td>EXC</td>\n",
              "      <td>4.443501e+07</td>\n",
              "      <td>KBR</td>\n",
              "      <td>6.753310e+06</td>\n",
              "      <td>FRPT</td>\n",
              "      <td>2.256704e+06</td>\n",
              "      <td>SCCO</td>\n",
              "      <td>3.850762e+07</td>\n",
              "    </tr>\n",
              "    <tr>\n",
              "      <th>7</th>\n",
              "      <td>PFE</td>\n",
              "      <td>2.941793e+08</td>\n",
              "      <td>CME</td>\n",
              "      <td>7.357354e+07</td>\n",
              "      <td>MCD</td>\n",
              "      <td>1.816339e+08</td>\n",
              "      <td>TJX</td>\n",
              "      <td>6.543587e+07</td>\n",
              "      <td>XEL</td>\n",
              "      <td>3.853967e+07</td>\n",
              "      <td>BLD</td>\n",
              "      <td>5.479154e+06</td>\n",
              "      <td>FDP</td>\n",
              "      <td>1.412091e+06</td>\n",
              "      <td>DVN</td>\n",
              "      <td>3.637260e+07</td>\n",
              "    </tr>\n",
              "    <tr>\n",
              "      <th>8</th>\n",
              "      <td>CVX</td>\n",
              "      <td>2.833974e+08</td>\n",
              "      <td>CCI</td>\n",
              "      <td>7.291387e+07</td>\n",
              "      <td>CMCSA</td>\n",
              "      <td>1.731755e+08</td>\n",
              "      <td>SHW</td>\n",
              "      <td>5.803368e+07</td>\n",
              "      <td>LNG</td>\n",
              "      <td>3.380812e+07</td>\n",
              "      <td>MTZ</td>\n",
              "      <td>5.438982e+06</td>\n",
              "      <td>BV</td>\n",
              "      <td>1.116000e+06</td>\n",
              "      <td>HAL</td>\n",
              "      <td>2.828596e+07</td>\n",
              "    </tr>\n",
              "    <tr>\n",
              "      <th>9</th>\n",
              "      <td>KO</td>\n",
              "      <td>2.727167e+08</td>\n",
              "      <td>BX</td>\n",
              "      <td>6.148956e+07</td>\n",
              "      <td>DIS</td>\n",
              "      <td>1.719481e+08</td>\n",
              "      <td>DG</td>\n",
              "      <td>5.571415e+07</td>\n",
              "      <td>ED</td>\n",
              "      <td>3.369345e+07</td>\n",
              "      <td>EME</td>\n",
              "      <td>5.265575e+06</td>\n",
              "      <td>AVO</td>\n",
              "      <td>1.006846e+06</td>\n",
              "      <td>CLR</td>\n",
              "      <td>2.372003e+07</td>\n",
              "    </tr>\n",
              "  </tbody>\n",
              "</table>\n",
              "</div>"
            ],
            "text/plain": [
              "  Manufacturing_firm  Manufacturing_marketvalue Finance_firm  \\\n",
              "0               AAPL               2.212838e+09          UNH   \n",
              "1               TSLA               6.976698e+08          AMT   \n",
              "2                JNJ               4.671001e+08          ELV   \n",
              "3               NVDA               3.789750e+08          BLK   \n",
              "4                XOM               3.569164e+08           CI   \n",
              "5                 PG               3.449949e+08          MMC   \n",
              "6                LLY               3.080702e+08         NFLX   \n",
              "7                PFE               2.941793e+08          CME   \n",
              "8                CVX               2.833974e+08          CCI   \n",
              "9                 KO               2.727167e+08           BX   \n",
              "\n",
              "   Finance_marketvalue Services_firm  Services_marketvalue Comercial_firm  \\\n",
              "0         4.818731e+08          MSFT          1.920840e+09           AMZN   \n",
              "1         1.166213e+08         GOOGL          1.435042e+09            WMT   \n",
              "2         1.163427e+08          META          4.363946e+08             HD   \n",
              "3         9.227154e+07             V          3.743426e+08           COST   \n",
              "4         8.360790e+07            MA          3.068500e+08            CVS   \n",
              "5         7.792211e+07            VZ          2.131355e+08            LOW   \n",
              "6         7.776567e+07          ORCL          1.861984e+08            TGT   \n",
              "7         7.357354e+07           MCD          1.816339e+08            TJX   \n",
              "8         7.291387e+07         CMCSA          1.731755e+08            SHW   \n",
              "9         6.148956e+07           DIS          1.719481e+08             DG   \n",
              "\n",
              "   Comercial_marketvalue Energy_firm  Energy_marketvalue Construction_firm  \\\n",
              "0           1.080624e+09         NEE        1.521918e+08               DHI   \n",
              "1           3.332690e+08         DUK        8.254103e+07               LEN   \n",
              "2           2.818823e+08           D        6.474749e+07               PWR   \n",
              "3           2.123033e+08          SO        6.406955e+07                 J   \n",
              "4           1.215059e+08         AEP        4.926943e+07               NVR   \n",
              "5           1.116366e+08         SRE        4.723057e+07               PHM   \n",
              "6           6.548784e+07         EXC        4.443501e+07               KBR   \n",
              "7           6.543587e+07         XEL        3.853967e+07               BLD   \n",
              "8           5.803368e+07         LNG        3.380812e+07               MTZ   \n",
              "9           5.571415e+07          ED        3.369345e+07               EME   \n",
              "\n",
              "   Construction_marketvalue Agriculture_firm  Agriculture_marketvalue  \\\n",
              "0              2.330088e+07              GIS             4.505560e+07   \n",
              "1              2.056314e+07             CTVA             3.918112e+07   \n",
              "2              1.801249e+07                K             2.410383e+07   \n",
              "3              1.635238e+07             INGR             5.837918e+06   \n",
              "4              1.317228e+07             POST             5.002324e+06   \n",
              "5              9.417149e+06             CALM             2.418139e+06   \n",
              "6              6.753310e+06             FRPT             2.256704e+06   \n",
              "7              5.479154e+06              FDP             1.412091e+06   \n",
              "8              5.438982e+06               BV             1.116000e+06   \n",
              "9              5.265575e+06              AVO             1.006846e+06   \n",
              "\n",
              "  Mining_firm  Mining_marketvalue  \n",
              "0         EOG        6.468620e+07  \n",
              "1         OXY        5.484625e+07  \n",
              "2         PXD        5.397621e+07  \n",
              "3         SLB        5.057852e+07  \n",
              "4         NEM        4.735716e+07  \n",
              "5         FCX        4.240542e+07  \n",
              "6        SCCO        3.850762e+07  \n",
              "7         DVN        3.637260e+07  \n",
              "8         HAL        2.828596e+07  \n",
              "9         CLR        2.372003e+07  "
            ]
          },
          "execution_count": 16,
          "metadata": {},
          "output_type": "execute_result"
        }
      ],
      "source": [
        "industry_top10_marketvalue_dic = {}\n",
        "df_final_size_us = df_final_size[df_final_size['country'] == 'US']\n",
        "\n",
        "for industry in industry_list:\n",
        "  df_temp = df_final_size_us[df_final_size_us['industry'] == industry].sort_values(['marketvalue'],ascending=False)[['marketvalue']].head(10)\n",
        "  industry_top10_marketvalue_dic[industry] = {}\n",
        "  industry_top10_marketvalue_dic[industry]['firm'] = df_temp.index.tolist()\n",
        "  industry_top10_marketvalue_dic[industry]['marketvalue'] = df_temp['marketvalue'].tolist()\n",
        "\n",
        "top10_marketvalue_data = {}\n",
        "for industry in industry_list:\n",
        "  for attribute in ['firm', 'marketvalue']:\n",
        "    top10_marketvalue_data[industry + '_' + attribute] = industry_top10_marketvalue_dic[industry][attribute]\n",
        "\n",
        "firm_marketvalue_median_us = df_final_size_us['marketvalue'].median()\n",
        "\n",
        "df_top10_marketvalue = pd.DataFrame(top10_marketvalue_data)\n",
        "df_top10_marketvalue"
      ]
    },
    {
      "cell_type": "code",
      "execution_count": 250,
      "metadata": {},
      "outputs": [
        {
          "data": {
            "text/plain": [
              "<AxesSubplot:xlabel='industry', ylabel='marketvalue'>"
            ]
          },
          "execution_count": 250,
          "metadata": {},
          "output_type": "execute_result"
        },
        {
          "data": {
            "image/png": "[encoded data removed]",
            "text/plain": [
              "<Figure size 1500x500 with 1 Axes>"
            ]
          },
          "metadata": {},
          "output_type": "display_data"
        }
      ],
      "source": [
        "df_top10_marketvalue_2d_dict = {'firm':['mean'], 'marketvalue':[firm_marketvalue_median_us], 'industry':['US_Firm_Median']}\n",
        "for industry in industry_list:\n",
        "    df_top10_marketvalue_2d_dict['firm'].extend(industry_top10_marketvalue_dic[industry]['firm'])\n",
        "    df_top10_marketvalue_2d_dict['marketvalue'].extend(industry_top10_marketvalue_dic[industry]['marketvalue'])\n",
        "    \n",
        "    for count in range(len(industry_top10_marketvalue_dic[industry]['firm'])):\n",
        "        df_top10_marketvalue_2d_dict['industry'].append(industry)\n",
        "\n",
        "df_top10_marketvalue_2d = pd.DataFrame(df_top10_marketvalue_2d_dict)\n",
        "df_top10_marketvalue_2d.plot('industry', 'marketvalue', kind ='scatter', figsize=(15,5))"
      ]
    },
    {
      "cell_type": "markdown",
      "metadata": {},
      "source": [
        "#### ***Which are the biggest 10 US firms in terms of market value***\n",
        "THE BIGGEST FIRM OF ALL US INDUSTRY  \n",
        "AND THE LAST IS THE MEDIAN OF US FIRM'S MARKET VALUE"
      ]
    },
    {
      "cell_type": "code",
      "execution_count": 17,
      "metadata": {},
      "outputs": [
        {
          "data": {
            "text/html": [
              "<div>\n",
              "<style scoped>\n",
              "    .dataframe tbody tr th:only-of-type {\n",
              "        vertical-align: middle;\n",
              "    }\n",
              "\n",
              "    .dataframe tbody tr th {\n",
              "        vertical-align: top;\n",
              "    }\n",
              "\n",
              "    .dataframe thead th {\n",
              "        text-align: right;\n",
              "    }\n",
              "</style>\n",
              "<table border=\"1\" class=\"dataframe\">\n",
              "  <thead>\n",
              "    <tr style=\"text-align: right;\">\n",
              "      <th></th>\n",
              "      <th>firm</th>\n",
              "      <th>marketvalue</th>\n",
              "    </tr>\n",
              "  </thead>\n",
              "  <tbody>\n",
              "    <tr>\n",
              "      <th>0</th>\n",
              "      <td>AAPL</td>\n",
              "      <td>2.212838e+09</td>\n",
              "    </tr>\n",
              "    <tr>\n",
              "      <th>1</th>\n",
              "      <td>MSFT</td>\n",
              "      <td>1.920840e+09</td>\n",
              "    </tr>\n",
              "    <tr>\n",
              "      <th>2</th>\n",
              "      <td>GOOGL</td>\n",
              "      <td>1.435042e+09</td>\n",
              "    </tr>\n",
              "    <tr>\n",
              "      <th>3</th>\n",
              "      <td>AMZN</td>\n",
              "      <td>1.080624e+09</td>\n",
              "    </tr>\n",
              "    <tr>\n",
              "      <th>4</th>\n",
              "      <td>TSLA</td>\n",
              "      <td>6.976698e+08</td>\n",
              "    </tr>\n",
              "    <tr>\n",
              "      <th>5</th>\n",
              "      <td>UNH</td>\n",
              "      <td>4.818731e+08</td>\n",
              "    </tr>\n",
              "    <tr>\n",
              "      <th>6</th>\n",
              "      <td>JNJ</td>\n",
              "      <td>4.671001e+08</td>\n",
              "    </tr>\n",
              "    <tr>\n",
              "      <th>7</th>\n",
              "      <td>META</td>\n",
              "      <td>4.363946e+08</td>\n",
              "    </tr>\n",
              "    <tr>\n",
              "      <th>8</th>\n",
              "      <td>NVDA</td>\n",
              "      <td>3.789750e+08</td>\n",
              "    </tr>\n",
              "    <tr>\n",
              "      <th>9</th>\n",
              "      <td>V</td>\n",
              "      <td>3.743426e+08</td>\n",
              "    </tr>\n",
              "    <tr>\n",
              "      <th>10</th>\n",
              "      <td>Us_Firm_Median</td>\n",
              "      <td>1.174999e+06</td>\n",
              "    </tr>\n",
              "  </tbody>\n",
              "</table>\n",
              "</div>"
            ],
            "text/plain": [
              "              firm   marketvalue\n",
              "0             AAPL  2.212838e+09\n",
              "1             MSFT  1.920840e+09\n",
              "2            GOOGL  1.435042e+09\n",
              "3             AMZN  1.080624e+09\n",
              "4             TSLA  6.976698e+08\n",
              "5              UNH  4.818731e+08\n",
              "6              JNJ  4.671001e+08\n",
              "7             META  4.363946e+08\n",
              "8             NVDA  3.789750e+08\n",
              "9                V  3.743426e+08\n",
              "10  Us_Firm_Median  1.174999e+06"
            ]
          },
          "execution_count": 17,
          "metadata": {},
          "output_type": "execute_result"
        }
      ],
      "source": [
        "df_temp = df_final_size_us.sort_values(['marketvalue'],ascending=False)[['marketvalue']].head(10)\n",
        "df_temp = df_temp.reset_index()\n",
        "df_temp = df_temp.copy()\n",
        "df_temp.loc[10] = ['Us_Firm_Median', firm_marketvalue_median_us]\n",
        "df_temp"
      ]
    },
    {
      "cell_type": "markdown",
      "metadata": {},
      "source": [
        "#### ***and how far they are from the typical size of a US firm?***\n",
        "THE SCATTER CHART SHOWING HOW THE 10 BIGGEST US FIRMS  \n",
        "COMPARE TO HOW FAR FROM THE TYPICAL US FIRM"
      ]
    },
    {
      "cell_type": "code",
      "execution_count": 18,
      "metadata": {},
      "outputs": [
        {
          "data": {
            "text/plain": [
              "<AxesSubplot:xlabel='firm', ylabel='marketvalue'>"
            ]
          },
          "execution_count": 18,
          "metadata": {},
          "output_type": "execute_result"
        },
        {
          "data": {
            "image/png": "[encoded data removed]",
            "text/plain": [
              "<Figure size 1000x500 with 1 Axes>"
            ]
          },
          "metadata": {},
          "output_type": "display_data"
        }
      ],
      "source": [
        "#insert the median of us firm\n",
        "df_temp.plot('firm', 'marketvalue', kind ='scatter', figsize=(10,5))"
      ]
    },
    {
      "cell_type": "markdown",
      "metadata": {},
      "source": [
        "#### ***Which are the biggest 10 US firms in terms of book value?***"
      ]
    },
    {
      "cell_type": "code",
      "execution_count": 251,
      "metadata": {},
      "outputs": [
        {
          "data": {
            "text/html": [
              "<div>\n",
              "<style scoped>\n",
              "    .dataframe tbody tr th:only-of-type {\n",
              "        vertical-align: middle;\n",
              "    }\n",
              "\n",
              "    .dataframe tbody tr th {\n",
              "        vertical-align: top;\n",
              "    }\n",
              "\n",
              "    .dataframe thead th {\n",
              "        text-align: right;\n",
              "    }\n",
              "</style>\n",
              "<table border=\"1\" class=\"dataframe\">\n",
              "  <thead>\n",
              "    <tr style=\"text-align: right;\">\n",
              "      <th></th>\n",
              "      <th>firm</th>\n",
              "      <th>bookvalue</th>\n",
              "    </tr>\n",
              "  </thead>\n",
              "  <tbody>\n",
              "    <tr>\n",
              "      <th>0</th>\n",
              "      <td>GOOGL</td>\n",
              "      <td>255419000.0</td>\n",
              "    </tr>\n",
              "    <tr>\n",
              "      <th>1</th>\n",
              "      <td>XOM</td>\n",
              "      <td>184508000.0</td>\n",
              "    </tr>\n",
              "    <tr>\n",
              "      <th>2</th>\n",
              "      <td>MSFT</td>\n",
              "      <td>166542000.0</td>\n",
              "    </tr>\n",
              "    <tr>\n",
              "      <th>3</th>\n",
              "      <td>CVX</td>\n",
              "      <td>154562000.0</td>\n",
              "    </tr>\n",
              "    <tr>\n",
              "      <th>4</th>\n",
              "      <td>T</td>\n",
              "      <td>135307000.0</td>\n",
              "    </tr>\n",
              "    <tr>\n",
              "      <th>5</th>\n",
              "      <td>AMZN</td>\n",
              "      <td>131402000.0</td>\n",
              "    </tr>\n",
              "    <tr>\n",
              "      <th>6</th>\n",
              "      <td>META</td>\n",
              "      <td>125767000.0</td>\n",
              "    </tr>\n",
              "    <tr>\n",
              "      <th>7</th>\n",
              "      <td>INTC</td>\n",
              "      <td>101218000.0</td>\n",
              "    </tr>\n",
              "    <tr>\n",
              "      <th>8</th>\n",
              "      <td>DIS</td>\n",
              "      <td>96433000.0</td>\n",
              "    </tr>\n",
              "    <tr>\n",
              "      <th>9</th>\n",
              "      <td>CMCSA</td>\n",
              "      <td>92559000.0</td>\n",
              "    </tr>\n",
              "    <tr>\n",
              "      <th>10</th>\n",
              "      <td>Us_Firm_Median</td>\n",
              "      <td>401433.5</td>\n",
              "    </tr>\n",
              "  </tbody>\n",
              "</table>\n",
              "</div>"
            ],
            "text/plain": [
              "              firm    bookvalue\n",
              "0            GOOGL  255419000.0\n",
              "1              XOM  184508000.0\n",
              "2             MSFT  166542000.0\n",
              "3              CVX  154562000.0\n",
              "4                T  135307000.0\n",
              "5             AMZN  131402000.0\n",
              "6             META  125767000.0\n",
              "7             INTC  101218000.0\n",
              "8              DIS   96433000.0\n",
              "9            CMCSA   92559000.0\n",
              "10  Us_Firm_Median     401433.5"
            ]
          },
          "execution_count": 251,
          "metadata": {},
          "output_type": "execute_result"
        }
      ],
      "source": [
        "firm_bookvalue_median_us = df_final_size_us['bookvalue'].median()\n",
        "\n",
        "df_temp1 = df_final_size_us.sort_values(['bookvalue'],ascending=False)[['bookvalue']].head(10)\n",
        "df_temp1 = df_temp1.reset_index()\n",
        "df_temp1 = df_temp1.copy()\n",
        "df_temp1.loc[10] = ['Us_Firm_Median', firm_bookvalue_median_us]\n",
        "df_temp1"
      ]
    },
    {
      "cell_type": "markdown",
      "metadata": {},
      "source": [
        "#### ***and how far they are from the typical size of a US firm?***  \n",
        "THE SCATTER CHART SHOWING HOW THE 10 BIGGEST US FIRMS  \n",
        "COMPARE TO HOW FAR FROM THE TYPICAL US FIRM"
      ]
    },
    {
      "cell_type": "code",
      "execution_count": 253,
      "metadata": {},
      "outputs": [
        {
          "data": {
            "text/plain": [
              "<AxesSubplot:xlabel='firm', ylabel='bookvalue'>"
            ]
          },
          "execution_count": 253,
          "metadata": {},
          "output_type": "execute_result"
        },
        {
          "data": {
            "image/png": "[encoded data removed]",
            "text/plain": [
              "<Figure size 1000x500 with 1 Axes>"
            ]
          },
          "metadata": {},
          "output_type": "display_data"
        }
      ],
      "source": [
        "df_temp1.plot('firm', 'bookvalue', kind ='scatter', figsize=(10,5))"
      ]
    },
    {
      "cell_type": "markdown",
      "metadata": {},
      "source": [
        "## ***Considering the whole history of financial data for all firms:***\n",
        "### ***among firms of different sizes***"
      ]
    },
    {
      "cell_type": "markdown",
      "metadata": {},
      "source": [
        "WE CHECK THE STATICS OF DIFFERENT SIZE OF FIRM (BASED ON MARKET VALUE)"
      ]
    },
    {
      "cell_type": "code",
      "execution_count": 20,
      "metadata": {},
      "outputs": [
        {
          "data": {
            "text/plain": [
              "count    2.792000e+03\n",
              "mean     1.250613e+07\n",
              "std      7.397673e+07\n",
              "min      3.490000e+01\n",
              "25%      1.796944e+05\n",
              "50%      1.174999e+06\n",
              "75%      5.024743e+06\n",
              "max      2.212838e+09\n",
              "Name: marketvalue, dtype: float64"
            ]
          },
          "execution_count": 20,
          "metadata": {},
          "output_type": "execute_result"
        }
      ],
      "source": [
        "df_final_size['marketvalue'].describe()"
      ]
    },
    {
      "cell_type": "markdown",
      "metadata": {},
      "source": [
        "AFTER WINZORIZATION,  \n",
        "WE GIVE A HISTOGRAM TO SHOW HOW THE DISTRIBUTION OF THE FIRM SIZE OF ALL FIRMS"
      ]
    },
    {
      "cell_type": "code",
      "execution_count": 21,
      "metadata": {},
      "outputs": [
        {
          "data": {
            "text/plain": [
              "count    2.369000e+03\n",
              "mean     1.869005e+06\n",
              "std      2.531450e+06\n",
              "min      3.490000e+01\n",
              "25%      1.299805e+05\n",
              "50%      7.344904e+05\n",
              "75%      2.678215e+06\n",
              "max      1.219609e+07\n",
              "Name: marketvalue, dtype: float64"
            ]
          },
          "execution_count": 21,
          "metadata": {},
          "output_type": "execute_result"
        },
        {
          "data": {
            "image/png": "[encoded data removed]",
            "text/plain": [
              "<Figure size 640x480 with 1 Axes>"
            ]
          },
          "metadata": {},
          "output_type": "display_data"
        }
      ],
      "source": [
        "#shall the histrograph of all firm's size\n",
        "#df_final_size['marketvalue'].plot(kind ='hist')\n",
        "marketvalue_describe = df_final_size['marketvalue'].describe()\n",
        "marketvalue_1q = marketvalue_describe['25%']\n",
        "marketvalue_3q = marketvalue_describe['75%']\n",
        "marketvalue_iqr = marketvalue_3q - marketvalue_1q\n",
        "marketvalue_range_low = marketvalue_1q - (1.5 * marketvalue_iqr)\n",
        "marketvalue_range_high = marketvalue_3q + (1.5 * marketvalue_iqr)\n",
        "df_final_size_no_outlier = df_final_size[(df_final_size['marketvalue'] >= marketvalue_range_low) & (df_final_size['marketvalue'] <= marketvalue_range_high)]\n",
        "df_final_size_no_outlier['marketvalue'].plot(kind ='hist')\n",
        "\n",
        "df_final_size_no_outlier['marketvalue'].describe()"
      ]
    },
    {
      "cell_type": "markdown",
      "metadata": {},
      "source": [
        "AFTER REMOVE THE OUTLIER, FOR THE MARKET VALUE  \n",
        "25% FIRM IS BELOW 124 MILLION,  \n",
        "25% FIRM IS BETWEEN 664 MILLION AND 124 MILLION,  \n",
        "25% FRIM IS BETWEEN 2.5 BILLION AND 664 MILLION,  \n",
        "25% FIRM IS ABOVE 2.5 BILLION"
      ]
    },
    {
      "cell_type": "markdown",
      "metadata": {},
      "source": [
        "\n",
        "### ***1, How can you measure firm profitability that can be used to compare performance***\n",
        "### ***Select and justify at least 3 measures***\n",
        "I CHOOSE  \n",
        "***OPERATING PROFIT MARGIN*** : IT INDICATE HOW GOOD THE FIRM IS DOING ON SALE FOR PROFIT  \n",
        "***ANNUAL RETURN*** : IT INDICATE HOW GOOD THE FIRM IS PERFORM ON STOCK MARKET FOR PROFIT  \n",
        "***EARNING PER SHARE*** : IT INDICATE HOW THE NET INCOME REFECT ON THE STOCK MARKET  \n",
        "\n",
        "I COMPARE THE MEDIAN OF THOSE VARIABLE BETWEEM FIRMS,  \n",
        "AND CHECK THE TIME LINE OF HOW THEY CHANGE,  \n",
        "I NOTICE THAT THEY ARE ALL CORRELATED WITH EACH OTHER,  \n",
        "THEY ALL SHOWING THE PROFITABLITY OF ONE FIRM"
      ]
    },
    {
      "cell_type": "code",
      "execution_count": 257,
      "metadata": {},
      "outputs": [],
      "source": [
        "from tkinter.ttk import Style\n",
        "\n",
        "df_more.replace([np.inf, -np.inf], np.nan, inplace=True)\n",
        "\n",
        "df_more_groupby_date = df_more.dropna(subset=['op_profit_margin', 'anual_cc_return', 'eps']).groupby('date')\n",
        "\n",
        "df_op_profit_margin = df_more_groupby_date['op_profit_margin'].median()\n",
        "df_annual_return = df_more_groupby_date['anual_cc_return'].median()\n",
        "df_eps = df_more_groupby_date['eps'].median()"
      ]
    },
    {
      "cell_type": "code",
      "execution_count": 258,
      "metadata": {},
      "outputs": [
        {
          "data": {
            "text/plain": [
              "<matplotlib.legend.Legend at 0x78a597c8>"
            ]
          },
          "execution_count": 258,
          "metadata": {},
          "output_type": "execute_result"
        },
        {
          "data": {
            "image/png": "[encoded data removed]",
            "text/plain": [
              "<Figure size 640x480 with 3 Axes>"
            ]
          },
          "metadata": {},
          "output_type": "display_data"
        }
      ],
      "source": [
        "fig, ax = plt.subplots()\n",
        "ax3 = ax.twinx()\n",
        "rspine = ax3.spines['right']\n",
        "rspine.set_position(('axes', 1.15))\n",
        "ax3.set_frame_on(True)\n",
        "ax3.patch.set_visible(False)\n",
        "fig.subplots_adjust(right=0.7)\n",
        "\n",
        "df_op_profit_margin.plot(ax=ax, style='b-')\n",
        "df_annual_return.plot(ax=ax, style='r-', secondary_y=True)\n",
        "df_eps.plot(ax=ax3, style='g-')\n",
        "\n",
        "ax3.legend([ax.get_lines()[0], ax.right_ax.get_lines()[0], ax3.get_lines()[0]],\\\n",
        "           ['op profit margin','annual return','eps'], bbox_to_anchor=(1.5, 0.5))"
      ]
    },
    {
      "cell_type": "markdown",
      "metadata": {},
      "source": [
        "### ***and show descriptive statistics***"
      ]
    },
    {
      "cell_type": "code",
      "execution_count": null,
      "metadata": {},
      "outputs": [],
      "source": [
        "df_more_clean = df_more.dropna(subset=['op_profit_margin', 'anual_cc_return', 'eps'])\n",
        "df_more_clean['op_profit_margin'] = winsorize(df_more_clean['op_profit_margin'], limits=[0.01,0.01])\n",
        "df_more_clean['anual_cc_return'] = winsorize(df_more_clean['anual_cc_return'], limits=[0.01,0.01])\n",
        "df_more_clean['eps'] = winsorize(df_more_clean['eps'], limits=[0.01,0.01])"
      ]
    },
    {
      "cell_type": "markdown",
      "metadata": {},
      "source": [
        "FOR THE DESCRIPTIVE STATISTICS FOR THOSE VARIABLE  \n",
        "FROM ALL THE TIME AND ALL THE FIRM   \n",
        "AFTER WINSORIZATION"
      ]
    },
    {
      "cell_type": "markdown",
      "metadata": {},
      "source": [
        "***OP PROFIT MARGIN***  \n",
        "50% IS BETWEEN 1.9% TO 23%  \n",
        "MEDIAN IS 10.2%"
      ]
    },
    {
      "cell_type": "code",
      "execution_count": 265,
      "metadata": {},
      "outputs": [
        {
          "data": {
            "text/plain": [
              "count    139482.000000\n",
              "mean         -0.697520\n",
              "std           5.287120\n",
              "min         -45.284553\n",
              "25%           0.019230\n",
              "50%           0.102650\n",
              "75%           0.232323\n",
              "max           0.952967\n",
              "Name: op_profit_margin, dtype: float64"
            ]
          },
          "execution_count": 265,
          "metadata": {},
          "output_type": "execute_result"
        }
      ],
      "source": [
        "df_more_clean['op_profit_margin'].describe()"
      ]
    },
    {
      "cell_type": "markdown",
      "metadata": {},
      "source": [
        "***ANNUAL STOCK RETURN***  \n",
        "50% IS BETWEEN -15% TO 29.5%  \n",
        "MEDIAN IS 9.1%"
      ]
    },
    {
      "cell_type": "code",
      "execution_count": 266,
      "metadata": {},
      "outputs": [
        {
          "data": {
            "text/plain": [
              "count    139482.000000\n",
              "mean          0.041519\n",
              "std           0.491001\n",
              "min          -1.847110\n",
              "25%          -0.151633\n",
              "50%           0.090731\n",
              "75%           0.295173\n",
              "max           1.383992\n",
              "Name: anual_cc_return, dtype: float64"
            ]
          },
          "execution_count": 266,
          "metadata": {},
          "output_type": "execute_result"
        }
      ],
      "source": [
        "df_more_clean['anual_cc_return'].describe()"
      ]
    },
    {
      "cell_type": "markdown",
      "metadata": {},
      "source": [
        "***EARNING PER SHARE***  \n",
        "50% IS BETWEEN 0.0004 USD TO 0.73 USD  \n",
        "MEDIAN IS 0.32USD"
      ]
    },
    {
      "cell_type": "code",
      "execution_count": 267,
      "metadata": {},
      "outputs": [
        {
          "data": {
            "text/plain": [
              "count    139482.000000\n",
              "mean          0.457177\n",
              "std           1.009910\n",
              "min          -2.636425\n",
              "25%           0.000469\n",
              "50%           0.318485\n",
              "75%           0.730859\n",
              "max           5.607978\n",
              "Name: eps, dtype: float64"
            ]
          },
          "execution_count": 267,
          "metadata": {},
          "output_type": "execute_result"
        }
      ],
      "source": [
        "df_more_clean['eps'].describe()"
      ]
    },
    {
      "cell_type": "markdown",
      "metadata": {},
      "source": [
        "#### ***Calculate and explain earnings per share deflated by price***  \n",
        "EPS = NET_INCOME / STOCK_OUTSTANDING  \n",
        "EPSP = EPS / Original_Price  \n",
        "IT MEANS, HOW MUCH NETINCOME WILL BE SHARED BY INVESTOR, BY EACH MONEY THE INVESTOR PAY FOR STOCK,  \n",
        "WHEN EPSP IS HIGH, MEANS INVESTOR WILL GET MORE NETINCOME IF THEY PAY THE SAME MONEY TO BUY FIRM'S STOCK,  \n",
        "IT CAN BE A INVESTMENT RETURN RATIO TO THE INVESTOR."
      ]
    },
    {
      "cell_type": "code",
      "execution_count": 125,
      "metadata": {},
      "outputs": [],
      "source": [
        "df_more['epsp'] = df_more['eps'] / df_more['originalprice']"
      ]
    },
    {
      "cell_type": "markdown",
      "metadata": {},
      "source": [
        "# ***About statistical modeling***\n",
        "\n",
        "## ***For Financial services***\n",
        "\n",
        "## ***Select at least 3 factors and briefly explain why you think might be related to stock returns***\n",
        "\n",
        "I THINK THE  \n",
        "***OPERATING_PROFIT_MARGIN***,  \n",
        "***SHORT_TERM_LEVERAGE*** AND  \n",
        "***BOOK_MARKET_VALUE_RATIO***  \n",
        "MAY BE RELATED TO THE ANNUAL STOCK RETURN OF ONE QUARTER IN THE FUTURE.\n",
        "\n",
        "THE REASON IS THAT  \n",
        " **OPERATING_PROFIT_MARGIN** REFLECT HOW GOOD A FIRM IS RUNNING BASED ON ITS PROFITABLE BEHAVIOR,  \n",
        " **SHORT_TERM_LEVERAGE** REFLECT A URENT PAY NEED TO BE DONE WITHIN ONE YEAR, AND ANNUAL RETURN IS WITHIN ONE YEAR'S MARKET RETURN, SO THE SHORT_TERM_LEVERAGE WILL AFFECT THE PROFIT OF ONE FIRM WITHIN ONE YEAR  \n",
        " **BOOK_MARKET_RATIO** INDICATE THE RATIO BETWEEN THE BOOK VALUE AND MARKET VALUE, AND THE PERFORMANCE OF THE FIRM WILL AFFECT THE BOOK VALUE, WITH THE BOK_MARKET_RATIO, THE BOOK VALUE WILL AFFECT TO MARKET VALUE, AND THE CHANGE OF MARKET VALUE WILL AFFECT THE ANNUAL STOCK RETURN\n"
      ]
    },
    {
      "cell_type": "code",
      "execution_count": 126,
      "metadata": {},
      "outputs": [],
      "source": [
        "df_finance = df_more[df_more['industry'] == 'Finance'].copy()\n",
        "df_finance['short_leverage'] = df_finance['shortdebt'] / df_finance['totalassets']\n",
        "df_finance['bmr'] = df_finance['bookvalue'] / df_finance['marketvalue']\n",
        "\n",
        "df_finance.replace([np.inf, -np.inf], np.nan, inplace=True)"
      ]
    },
    {
      "cell_type": "markdown",
      "metadata": {},
      "source": [
        "## ***Do histograms for each factor/variables and interpret them***  "
      ]
    },
    {
      "cell_type": "code",
      "execution_count": 122,
      "metadata": {},
      "outputs": [
        {
          "data": {
            "image/png": "[encoded data removed]",
            "text/plain": [
              "<Figure size 1200x400 with 3 Axes>"
            ]
          },
          "metadata": {},
          "output_type": "display_data"
        }
      ],
      "source": [
        "#Do histograms for each factor/variables and interpret them\n",
        "df_finance_win = df_finance.copy()\n",
        "fig, axs = plt.subplots(1, 3, figsize=(12,4))\n",
        "\n",
        "df_finance_win = df_finance_win.dropna(subset=['op_profit_margin', 'short_leverage', 'bmr'])\n",
        "df_finance_win = df_finance_win.groupby('firm').median()\n",
        "#df_finance_win = df_finance_win.groupby('date').median()\n",
        "df_finance_win['op_profit_margin'] = winsorize(df_finance_win['op_profit_margin'], limits=[0.01,0.01])\n",
        "df_finance_win['short_leverage'] = winsorize(df_finance_win['short_leverage'], limits=[0.01,0.01])\n",
        "df_finance_win['bmr'] = winsorize(df_finance_win['bmr'], limits=[0.01,0.01])\n",
        "\n",
        "axs[0].hist(df_finance_win['op_profit_margin'], bins=20)\n",
        "axs[0].set_title('operating profit margin')\n",
        "\n",
        "axs[1].hist(df_finance_win['short_leverage'], bins=40)\n",
        "axs[1].set_title('short leverage')\n",
        "\n",
        "axs[2].hist(df_finance_win['bmr'], bins=20)\n",
        "axs[2].set_title('book market ratio')\n",
        "\n",
        "fig.tight_layout()\n",
        "plt.show()\n",
        "\n"
      ]
    },
    {
      "cell_type": "markdown",
      "metadata": {},
      "source": [
        "WE GET THE MEDIAN OF THE THREE FACTORS FOR EACH FIRM, AND WINSORIZED THE DATA WITH 1% IN TWO EDGE.  \n",
        "FOR ***OP_PROFIT_MARGIN***,  \n",
        "WE SEE MOST OF THE COMPANY IS DOING FROM -25% TO 80%, AND MAJORITY OF THE FIRMS IS MORE THAN 0%.  \n",
        "SO IT MEANS MOST OF THE COMPANY IS EARNING THE MONEY, ONLY SMALL AMOUNT OF FIRM IS LOSING MONEY.  \n",
        "WHEN LOSING MONEY, THE COMPANY IS NOT LOSING TOO MUCH, MOSTLY LESS THAN -25% OF THEIR SALE,  \n",
        "WHEN EARNING MONEY, THE FIRM ALSO NOT EARN TOO MUCH, MOSTLY LESS THAN 80% OF THEIR SALE.   \n",
        "FOR ***SHORT TERM LEVERAGE***  \n",
        "WE SEE MOST OF THE FIRMS IS DOING FROM 0% TO 5%,  \n",
        "SO IT INDICATE MOST OF THE COMPAY NEED TO PAY THE DEBT WITH 0% TO 5% OF THEIR TOTAL ASSERT WITHIN ONE YEAR.  \n",
        "FOR ***BOOK MARKET RATIO***  \n",
        "WE SEE MOST OF THE FIRMS IS DOINF FROM 0 TO 1,  \n",
        "SO IT MEANS THAT MOST OF FIRMS' BOOK VALUE IS 0 TO 1 OF THEIR MARKET VALUE,  \n",
        "AND THE CHANGE OF THEIR BOOK VALUE WILL AFFECT THEIR MARKET VALUE BY 0% TO 100%.\n"
      ]
    },
    {
      "cell_type": "markdown",
      "metadata": {},
      "source": [
        "## **Do plots to visualize the possible relationship each factor might have with the dependent variable.**  "
      ]
    },
    {
      "cell_type": "code",
      "execution_count": 104,
      "metadata": {},
      "outputs": [
        {
          "data": {
            "image/png": "[encoded data removed]",
            "text/plain": [
              "<Figure size 1200x400 with 3 Axes>"
            ]
          },
          "metadata": {},
          "output_type": "display_data"
        }
      ],
      "source": [
        "#Do plots to visualize the possible relationship each factor might have with the dependent variable.\n",
        "fig, axs = plt.subplots(1, 3, figsize=(12,4))\n",
        "df_finance_date = df_finance.copy()\n",
        "df_finance_date = df_finance_date.dropna(subset=['op_profit_margin', 'short_leverage', 'bmr'])\n",
        "df_finance_date = df_finance_date.groupby('date').median()\n",
        "\n",
        "axs[0].scatter(df_finance_date['op_profit_margin'], df_finance_date['anual_cc_return'])\n",
        "axs[0].set_title('op_profit_margin VS annual_return')\n",
        "axs[0].set_ylabel('annual_return')\n",
        "axs[0].set_xlabel('op_profit_margin')\n",
        "\n",
        "axs[1].scatter(df_finance_date['short_leverage'], df_finance_date['anual_cc_return'])\n",
        "axs[1].set_title('short_leverage VS annual_return')\n",
        "axs[1].set_ylabel('annual_return')\n",
        "axs[1].set_xlabel('short_leverage')\n",
        "\n",
        "axs[2].scatter(df_finance_date['bmr'], df_finance_date['anual_cc_return'])\n",
        "axs[2].set_title('bmr VS annual_return')\n",
        "axs[2].set_ylabel('annual_return')\n",
        "axs[2].set_xlabel('bmr')\n",
        "\n",
        "fig.tight_layout()\n",
        "plt.show()"
      ]
    },
    {
      "cell_type": "markdown",
      "metadata": {},
      "source": [
        "\n",
        "FROM THE SCATTER CHART, WE CAN SEE  \n",
        "OP_PROFIT_MARGIN MIGHT BE PROPTIONAL WITH ANNUAL RETURN  \n",
        "SHORT LEVERAGE MIGHT NOT BE VERY SIGNIFICANT RELATED TO ANNUAL RETURN  \n",
        "BMR MIGHT BE INVERSELY PROPOTIONAL TO ANNUAL RETURN"
      ]
    },
    {
      "cell_type": "markdown",
      "metadata": {},
      "source": [
        "## ***Show descriptive statistics of these factors***\n"
      ]
    },
    {
      "cell_type": "code",
      "execution_count": 119,
      "metadata": {},
      "outputs": [],
      "source": [
        "df_finance_win_alltime = df_finance.copy()\n",
        "df_finance_win_alltime = df_finance_win_alltime.dropna(subset=['op_profit_margin', 'short_leverage', 'bmr'])\n",
        "df_finance_win_alltime['op_profit_margin'] = winsorize(df_finance_win_alltime['op_profit_margin'], limits=[0.01,0.01])\n",
        "df_finance_win_alltime['short_leverage'] = winsorize(df_finance_win_alltime['short_leverage'], limits=[0.01,0.01])\n",
        "df_finance_win_alltime['bmr'] = winsorize(df_finance_win_alltime['bmr'], limits=[0.01,0.01])"
      ]
    },
    {
      "cell_type": "code",
      "execution_count": 120,
      "metadata": {},
      "outputs": [
        {
          "data": {
            "text/plain": [
              "count    7768.000000\n",
              "mean        0.127191\n",
              "std         0.523404\n",
              "min        -3.327397\n",
              "25%         0.053446\n",
              "50%         0.167300\n",
              "75%         0.331245\n",
              "max         0.958289\n",
              "Name: op_profit_margin, dtype: float64"
            ]
          },
          "execution_count": 120,
          "metadata": {},
          "output_type": "execute_result"
        }
      ],
      "source": [
        "#Show descriptive statistics of these factors\n",
        "df_finance_win_alltime['op_profit_margin'].describe()"
      ]
    },
    {
      "cell_type": "markdown",
      "metadata": {},
      "source": [
        "FOR ***OPERATIONAL PROFIT MARGIN***  \n",
        "FOR ALL THE FIRM  \n",
        "25% ALL THE TIME, IT IS BELOW 5.3%  \n",
        "50% ALL THE TIME, IS IS BETWEEN 5.3% TO 33.1%  \n",
        "25% ALL THE TIME, IS IS ABOVE 33.1%  \n",
        "THE MEDIAN OF IT WILL BE 12.7%  \n",
        "THE MEAN OF THE OP_PROFIT_MARGIN IS 12.7%, WITH STANDARD ERROR OF 52%"
      ]
    },
    {
      "cell_type": "code",
      "execution_count": 115,
      "metadata": {},
      "outputs": [
        {
          "data": {
            "text/plain": [
              "count    7768.000000\n",
              "mean        0.044283\n",
              "std         0.103529\n",
              "min         0.000000\n",
              "25%         0.000000\n",
              "50%         0.004291\n",
              "75%         0.033086\n",
              "max         0.611525\n",
              "Name: short_leverage, dtype: float64"
            ]
          },
          "execution_count": 115,
          "metadata": {},
          "output_type": "execute_result"
        }
      ],
      "source": [
        "df_finance_win_alltime['short_leverage'].describe()"
      ]
    },
    {
      "cell_type": "markdown",
      "metadata": {},
      "source": [
        "FOR ***SHORT LEVERAGE***  \n",
        "FOR ALL THE FIRM  \n",
        "25% ALL THE TIME, IT IS 0% \n",
        "50% ALL THE TIME, IS IS BETWEEN 0% TO 3.3%  \n",
        "25% ALL THE TIME, IS IS ABOVE 3.3%  \n",
        "THE MEDIAN OF IT WILL BE 0.43%  \n",
        "THE MEAN OF THE SHORT LEVERAGE IS 4.4%, WITH STANDARD ERROR OF 10.4%"
      ]
    },
    {
      "cell_type": "code",
      "execution_count": 116,
      "metadata": {},
      "outputs": [
        {
          "data": {
            "text/plain": [
              "count    7768.000000\n",
              "mean        0.586900\n",
              "std         0.684233\n",
              "min        -0.149714\n",
              "25%         0.205327\n",
              "50%         0.400654\n",
              "75%         0.694646\n",
              "max         4.361542\n",
              "Name: bmr, dtype: float64"
            ]
          },
          "execution_count": 116,
          "metadata": {},
          "output_type": "execute_result"
        }
      ],
      "source": [
        "df_finance_win_alltime['bmr'].describe()"
      ]
    },
    {
      "cell_type": "markdown",
      "metadata": {},
      "source": [
        "FOR ***BOOK MARKET VALUE RATIO***  \n",
        "FOR ALL THE FIRM  \n",
        "25% ALL THE TIME, IT IS BELOW 0.2  \n",
        "50% ALL THE TIME, IS IS BETWEEN 0.2 TO 0.7  \n",
        "25% ALL THE TIME, IS IS ABOVE 0.7  \n",
        "THE MEDIAN OF IT WILL BE 0.4 \n",
        "THE MEAN OF THE BOOK MARKET VALUE RATIO IS 0.59, WITH STANDARD ERROR OF 0.68"
      ]
    },
    {
      "cell_type": "markdown",
      "metadata": {},
      "source": [
        "# ***Design and run a multiple regression model***\n",
        "\n",
        "## ***to examine whether your selected factors and earnings per share deflated by price can explain/predict annual stock returns.***  \n"
      ]
    },
    {
      "cell_type": "code",
      "execution_count": 230,
      "metadata": {},
      "outputs": [],
      "source": [
        "df_finance_train = df_finance.copy()\n",
        "df_finance_train = df_finance_train.dropna(subset=['op_profit_margin', 'short_leverage', 'bmr', 'epsp', 'anual_cc_return'])"
      ]
    },
    {
      "cell_type": "markdown",
      "metadata": {},
      "source": [
        "### ***check for outliers and do the corresponding adjustments to avoid unreliable results in your regression model***\n",
        "I DID A 1% WINSORIZATION OF BOTH EDGE FOR EACH INDIPENDENT VARIABLE"
      ]
    },
    {
      "cell_type": "code",
      "execution_count": 231,
      "metadata": {},
      "outputs": [],
      "source": [
        "df_finance_train['op_profit_margin'] = winsorize(df_finance_train['op_profit_margin'], limits=[0.01,0.01])\n",
        "df_finance_train['short_leverage'] = winsorize(df_finance_train['short_leverage'], limits=[0.01,0.01])\n",
        "df_finance_train['bmr'] = winsorize(df_finance_train['bmr'], limits=[0.01,0.01])\n",
        "df_finance_train['epsp'] = winsorize(df_finance_train['epsp'], limits=[0.01,0.01])"
      ]
    },
    {
      "cell_type": "markdown",
      "metadata": {},
      "source": [
        "### ***You have to control for industry and firm size.***\n",
        "WE ADDED DUMMY VARIABLE ***SIZE_D1*** AND ***SIZE_D2***,  \n",
        "IN ORDER TO DIFFER THE MARKET VALUE OF EACH FIRM IN EACH DATE.  \n",
        "SORT BY MARKET VALUE,  \n",
        "1/3 OF THE LOWER FIRM WILL BE MARKED AS SIZE_D1 = 0 AND SIZE_D2 = 0  \n",
        "1/3 OF THE MEDIA FIRM WILL BE MARKED AS SIZE_D1 = 1 AND SIZE_D2 = 0  \n",
        "1/3 OF THE LARGE FIRM WILL BE MARKED AS SIZE_D1 = 0 AND SIZE_D2 = 1"
      ]
    },
    {
      "cell_type": "code",
      "execution_count": 232,
      "metadata": {},
      "outputs": [],
      "source": [
        "df_finance_train['size_d1'] = 0\n",
        "df_finance_train['size_d2'] = 0"
      ]
    },
    {
      "cell_type": "code",
      "execution_count": 233,
      "metadata": {},
      "outputs": [],
      "source": [
        "df_finance_train_copy = df_finance_train.copy()\n",
        "df_finance_train_date_size = df_finance_train_copy.sort_values(['date', 'marketvalue']).groupby('date')\n",
        "df_finance_train_date_size[['marketvalue', 'date', 'q']].head()\n",
        "#len(df_finance_train_date_size['date'].unique())\n",
        "#df_finance_train_date_size['date'].head()\n",
        "\n",
        "count = 0\n",
        "for date in df_finance_train_copy['date'].unique():\n",
        "    df_date = df_finance_train_copy.loc[df_finance_train_copy['date'] == date]\n",
        "    \n",
        "    size_total = df_date['marketvalue'].count()\n",
        "    size_per = size_total // 3\n",
        "    \n",
        "    df_date_size_sort = df_date.sort_values('marketvalue')\n",
        "    #df_date_size_sort.reset_index()\n",
        "    #if(count == 0):\n",
        "    #    print(df_date_size_sort[['size_d1', 'marketvalue']].head())\n",
        "    #df_date_size_sort['size_d1'].iloc[size_per:(2 * size_per - 1)] = 1\n",
        "    #df_date_size_sort['size_d2'].iloc[(2 * size_per) :] = 1\n",
        "\n",
        "    for firm in df_date_size_sort['firm'].iloc[size_per:(2 * size_per - 1)]:\n",
        "        df_finance_train_copy.loc[(df_finance_train_copy['firm'] == firm) & (df_finance_train_copy['date'] == date), 'size_d1'] = 1\n",
        "        #if(count == 0):\n",
        "        #    print(df_finance_train_copy[(df_finance_train_copy['firm'] == firm) & (df_finance_train_copy['date'] == date)].index.to_list()[0])\n",
        "\n",
        "    for firm in df_date_size_sort['firm'].iloc[(2 * size_per) :]:\n",
        "        df_finance_train_copy.loc[(df_finance_train_copy['firm'] == firm) & (df_finance_train_copy['date'] == date), 'size_d2'] = 1\n",
        "\n",
        "\n",
        "    count += 1\n",
        "\n",
        "#print(count)\n",
        "#df_finance_train_copy.isna().sum()\n",
        "#df_finance_train_copy[['date', 'marketvalue', 'size_d1', 'size_d2']].head(40)\n",
        "#print(df_finance_train_copy['size_d1'].unique())\n",
        "#print(df_finance_train_copy['size_d2'].unique())"
      ]
    },
    {
      "cell_type": "code",
      "execution_count": 220,
      "metadata": {},
      "outputs": [],
      "source": [
        "#df_finance_train_copy[(df_finance_train_copy['size_d1'] == 0) & (df_finance_train_copy['size_d2'] == 0)][['date', 'marketvalue', 'size_d1', 'size_d2']].sort_values('date').tail(10)"
      ]
    },
    {
      "cell_type": "code",
      "execution_count": 219,
      "metadata": {},
      "outputs": [],
      "source": [
        "#df_finance_train_copy[df_finance_train_copy['size_d1'] == 1][['date', 'marketvalue', 'size_d1', 'size_d2']].sort_values('date').tail(10)"
      ]
    },
    {
      "cell_type": "code",
      "execution_count": 218,
      "metadata": {},
      "outputs": [],
      "source": [
        "#df_finance_train_copy[df_finance_train_copy['size_d2'] == 1][['date', 'marketvalue', 'size_d1', 'size_d2']].sort_values('date').tail(10)"
      ]
    },
    {
      "cell_type": "markdown",
      "metadata": {},
      "source": [
        "### ***You must check for possible multicollinearity problems***\n",
        "#### ***Briefly explain what is multicollinearity***\n",
        "MULTICOLLINEARITY  IS WHEN ONE INDEPENDENT VARIABLE IS LINEARLY CORRELATED WITH ANOTHER INDEPENDENT VARIABLE, IN A REGRESSION MODEL"
      ]
    },
    {
      "cell_type": "markdown",
      "metadata": {},
      "source": [
        "### ***run and interpret the corresponding test***"
      ]
    },
    {
      "cell_type": "code",
      "execution_count": 238,
      "metadata": {},
      "outputs": [
        {
          "data": {
            "text/html": [
              "<div>\n",
              "<style scoped>\n",
              "    .dataframe tbody tr th:only-of-type {\n",
              "        vertical-align: middle;\n",
              "    }\n",
              "\n",
              "    .dataframe tbody tr th {\n",
              "        vertical-align: top;\n",
              "    }\n",
              "\n",
              "    .dataframe thead th {\n",
              "        text-align: right;\n",
              "    }\n",
              "</style>\n",
              "<table border=\"1\" class=\"dataframe\">\n",
              "  <thead>\n",
              "    <tr style=\"text-align: right;\">\n",
              "      <th></th>\n",
              "      <th>feature</th>\n",
              "      <th>VIF</th>\n",
              "    </tr>\n",
              "  </thead>\n",
              "  <tbody>\n",
              "    <tr>\n",
              "      <th>0</th>\n",
              "      <td>op_profit_margin</td>\n",
              "      <td>1.261511</td>\n",
              "    </tr>\n",
              "    <tr>\n",
              "      <th>1</th>\n",
              "      <td>short_leverage</td>\n",
              "      <td>1.172672</td>\n",
              "    </tr>\n",
              "    <tr>\n",
              "      <th>2</th>\n",
              "      <td>bmr</td>\n",
              "      <td>1.294085</td>\n",
              "    </tr>\n",
              "    <tr>\n",
              "      <th>3</th>\n",
              "      <td>epsp</td>\n",
              "      <td>1.203415</td>\n",
              "    </tr>\n",
              "    <tr>\n",
              "      <th>4</th>\n",
              "      <td>size_d1</td>\n",
              "      <td>1.237846</td>\n",
              "    </tr>\n",
              "    <tr>\n",
              "      <th>5</th>\n",
              "      <td>size_d2</td>\n",
              "      <td>1.200835</td>\n",
              "    </tr>\n",
              "  </tbody>\n",
              "</table>\n",
              "</div>"
            ],
            "text/plain": [
              "            feature       VIF\n",
              "0  op_profit_margin  1.261511\n",
              "1    short_leverage  1.172672\n",
              "2               bmr  1.294085\n",
              "3              epsp  1.203415\n",
              "4           size_d1  1.237846\n",
              "5           size_d2  1.200835"
            ]
          },
          "execution_count": 238,
          "metadata": {},
          "output_type": "execute_result"
        }
      ],
      "source": [
        "from statsmodels.stats.outliers_influence import variance_inflation_factor\n",
        "x_var = df_finance_train_copy[['op_profit_margin', 'short_leverage', 'bmr', 'epsp', 'size_d1', 'size_d2']]\n",
        "vif_data = pd.DataFrame()\n",
        "vif_data['feature'] = x_var.columns\n",
        "vif_data['VIF'] = [variance_inflation_factor(x_var.values, i) for i in range(len(x_var.columns))]\n",
        "vif_data"
      ]
    },
    {
      "cell_type": "markdown",
      "metadata": {},
      "source": [
        "WE CALCULATE THE VIF (VARIANCE INFLATION FACTOR) FOR EACH INDEPENDENT VARAIBLE,  \n",
        "IF THE VIF FOR THE VARIABLE IS BIGGER OR EQUAL TO 10, IT MEANS WE HAVE MULTICOLLIENARITY CAUSED BY THAT VARIABLE.  \n",
        "IN OUR RESULT, WE SEE THE VIF OF ALL THE INDEPENDENT VARILABLE IS LOWER COLSE TO 1,   \n",
        "IT MEANS THERE IS NO MULTICOLLIENARITY BETWEEN OUR INDEPENDENT VARIABLES.  "
      ]
    },
    {
      "cell_type": "code",
      "execution_count": 247,
      "metadata": {},
      "outputs": [],
      "source": [
        "#df_finance[['firm', 'q', 'anual_cc_return']].head(100)"
      ]
    },
    {
      "cell_type": "markdown",
      "metadata": {},
      "source": [
        "### ***Run the Regression***"
      ]
    },
    {
      "cell_type": "code",
      "execution_count": 239,
      "metadata": {},
      "outputs": [
        {
          "data": {
            "text/html": [
              "<table class=\"simpletable\">\n",
              "<caption>OLS Regression Results</caption>\n",
              "<tr>\n",
              "  <th>Dep. Variable:</th>     <td>anual_cc_return</td> <th>  R-squared:         </th> <td>   0.115</td> \n",
              "</tr>\n",
              "<tr>\n",
              "  <th>Model:</th>                   <td>OLS</td>       <th>  Adj. R-squared:    </th> <td>   0.114</td> \n",
              "</tr>\n",
              "<tr>\n",
              "  <th>Method:</th>             <td>Least Squares</td>  <th>  F-statistic:       </th> <td>   159.4</td> \n",
              "</tr>\n",
              "<tr>\n",
              "  <th>Date:</th>             <td>Sat, 10 Sep 2022</td> <th>  Prob (F-statistic):</th> <td>5.69e-191</td>\n",
              "</tr>\n",
              "<tr>\n",
              "  <th>Time:</th>                 <td>02:59:10</td>     <th>  Log-Likelihood:    </th> <td> -5247.5</td> \n",
              "</tr>\n",
              "<tr>\n",
              "  <th>No. Observations:</th>      <td>  7357</td>      <th>  AIC:               </th> <td>1.051e+04</td>\n",
              "</tr>\n",
              "<tr>\n",
              "  <th>Df Residuals:</th>          <td>  7350</td>      <th>  BIC:               </th> <td>1.056e+04</td>\n",
              "</tr>\n",
              "<tr>\n",
              "  <th>Df Model:</th>              <td>     6</td>      <th>                     </th>     <td> </td>    \n",
              "</tr>\n",
              "<tr>\n",
              "  <th>Covariance Type:</th>      <td>nonrobust</td>    <th>                     </th>     <td> </td>    \n",
              "</tr>\n",
              "</table>\n",
              "<table class=\"simpletable\">\n",
              "<tr>\n",
              "          <td></td>            <th>coef</th>     <th>std err</th>      <th>t</th>      <th>P>|t|</th>  <th>[0.025</th>    <th>0.975]</th>  \n",
              "</tr>\n",
              "<tr>\n",
              "  <th>const</th>            <td>    0.1398</td> <td>    0.012</td> <td>   11.409</td> <td> 0.000</td> <td>    0.116</td> <td>    0.164</td>\n",
              "</tr>\n",
              "<tr>\n",
              "  <th>op_profit_margin</th> <td>    0.0319</td> <td>    0.012</td> <td>    2.604</td> <td> 0.009</td> <td>    0.008</td> <td>    0.056</td>\n",
              "</tr>\n",
              "<tr>\n",
              "  <th>short_leverage</th>   <td>   -0.2119</td> <td>    0.058</td> <td>   -3.643</td> <td> 0.000</td> <td>   -0.326</td> <td>   -0.098</td>\n",
              "</tr>\n",
              "<tr>\n",
              "  <th>bmr</th>              <td>   -0.1553</td> <td>    0.009</td> <td>  -17.684</td> <td> 0.000</td> <td>   -0.172</td> <td>   -0.138</td>\n",
              "</tr>\n",
              "<tr>\n",
              "  <th>epsp</th>             <td>    2.3144</td> <td>    0.132</td> <td>   17.589</td> <td> 0.000</td> <td>    2.057</td> <td>    2.572</td>\n",
              "</tr>\n",
              "<tr>\n",
              "  <th>size_d1</th>          <td>    0.0248</td> <td>    0.015</td> <td>    1.706</td> <td> 0.088</td> <td>   -0.004</td> <td>    0.053</td>\n",
              "</tr>\n",
              "<tr>\n",
              "  <th>size_d2</th>          <td>    0.0469</td> <td>    0.015</td> <td>    3.221</td> <td> 0.001</td> <td>    0.018</td> <td>    0.075</td>\n",
              "</tr>\n",
              "</table>\n",
              "<table class=\"simpletable\">\n",
              "<tr>\n",
              "  <th>Omnibus:</th>       <td>1718.915</td> <th>  Durbin-Watson:     </th> <td>   0.641</td> \n",
              "</tr>\n",
              "<tr>\n",
              "  <th>Prob(Omnibus):</th>  <td> 0.000</td>  <th>  Jarque-Bera (JB):  </th> <td>40392.858</td>\n",
              "</tr>\n",
              "<tr>\n",
              "  <th>Skew:</th>           <td>-0.556</td>  <th>  Prob(JB):          </th> <td>    0.00</td> \n",
              "</tr>\n",
              "<tr>\n",
              "  <th>Kurtosis:</th>       <td>14.425</td>  <th>  Cond. No.          </th> <td>    29.8</td> \n",
              "</tr>\n",
              "</table><br/><br/>Notes:<br/>[1] Standard Errors assume that the covariance matrix of the errors is correctly specified."
            ],
            "text/plain": [
              "<class 'statsmodels.iolib.summary.Summary'>\n",
              "\"\"\"\n",
              "                            OLS Regression Results                            \n",
              "==============================================================================\n",
              "Dep. Variable:        anual_cc_return   R-squared:                       0.115\n",
              "Model:                            OLS   Adj. R-squared:                  0.114\n",
              "Method:                 Least Squares   F-statistic:                     159.4\n",
              "Date:                Sat, 10 Sep 2022   Prob (F-statistic):          5.69e-191\n",
              "Time:                        02:59:10   Log-Likelihood:                -5247.5\n",
              "No. Observations:                7357   AIC:                         1.051e+04\n",
              "Df Residuals:                    7350   BIC:                         1.056e+04\n",
              "Df Model:                           6                                         \n",
              "Covariance Type:            nonrobust                                         \n",
              "====================================================================================\n",
              "                       coef    std err          t      P>|t|      [0.025      0.975]\n",
              "------------------------------------------------------------------------------------\n",
              "const                0.1398      0.012     11.409      0.000       0.116       0.164\n",
              "op_profit_margin     0.0319      0.012      2.604      0.009       0.008       0.056\n",
              "short_leverage      -0.2119      0.058     -3.643      0.000      -0.326      -0.098\n",
              "bmr                 -0.1553      0.009    -17.684      0.000      -0.172      -0.138\n",
              "epsp                 2.3144      0.132     17.589      0.000       2.057       2.572\n",
              "size_d1              0.0248      0.015      1.706      0.088      -0.004       0.053\n",
              "size_d2              0.0469      0.015      3.221      0.001       0.018       0.075\n",
              "==============================================================================\n",
              "Omnibus:                     1718.915   Durbin-Watson:                   0.641\n",
              "Prob(Omnibus):                  0.000   Jarque-Bera (JB):            40392.858\n",
              "Skew:                          -0.556   Prob(JB):                         0.00\n",
              "Kurtosis:                      14.425   Cond. No.                         29.8\n",
              "==============================================================================\n",
              "\n",
              "Notes:\n",
              "[1] Standard Errors assume that the covariance matrix of the errors is correctly specified.\n",
              "\"\"\""
            ]
          },
          "execution_count": 239,
          "metadata": {},
          "output_type": "execute_result"
        }
      ],
      "source": [
        "import statsmodels.api as sm\n",
        "X = df_finance_train_copy[['op_profit_margin', 'short_leverage', 'bmr', 'epsp', 'size_d1', 'size_d2']]\n",
        "y = df_finance_train_copy['anual_cc_return']\n",
        "\n",
        "X = sm.add_constant(X)\n",
        "mkmodel = sm.OLS(y,X).fit()\n",
        "mkmodel.summary()"
      ]
    },
    {
      "cell_type": "markdown",
      "metadata": {},
      "source": [
        "## ***Interpret your model***  \n",
        "### ***Interpret the results of each coefficient (beta and their statistical significance)***  \n",
        "***B_CONST***  \n",
        "THE T VALUE OF THIS BETA IS 11.409, THE P VALUE OF THIS BETA IS LESS THAN 0.0000001,  \n",
        "SO IT IS VERY CONFIDENT, AND LESS THAN 0.0000001 OF THE CHANGE IT WILL BE LESS THAN 0,  \n",
        "95% OF THE CHANGE, IT WILL BE BETWEEN 0.116 AND 0.164  \n",
        "SO IT IS STATISTICAL SIGNIFICANT.  \n",
        "***B_OP_PROFIT_MARGIN***  \n",
        "THE T VALUE OF THIS BETA IS 2.604, THE P VALUE OF THIS BETA IS 0.9%,  \n",
        "SO IT IS CONFIDENT, AND LESS THAN 0.9% OF THE CHANGE IT WILL BE LESS THAN 0,  \n",
        "95% OF THE CHANGE, IT WILL BE BETWEEN 0.008 AND 0.056  \n",
        "SO IT IS STATISTICAL SIGNIFICANT.  \n",
        "***B_SHORT_LEVERAGE***  \n",
        "THE T VALUE OF THIS BETA IS 3.643, THE P VALUE OF THIS BETA IS < 0.0001,  \n",
        "SO IT IS VERY CONFIDENT, AND LESS THAN 0.0001 OF THE CHANGE IT WILL BE BIGGER THAN 0,  \n",
        "95% OF THE CHANGE, IT WILL BE BETWEEN -0.326 AND -0.098  \n",
        "SO IT IS STATISTICAL SIGNIFICANT.      \n",
        "***B_BMR***  \n",
        "THE T VALUE OF THIS BETA IS 17.684, THE P VALUE OF THIS BETA IS < 0.000001,  \n",
        "SO IT IS VERY CONFIDENT, AND LESS THAN 0.000001 OF THE CHANGE IT WILL BE BIGGER THAN 0,  \n",
        "95% OF THE CHANGE, IT WILL BE BETWEEN -0.172 AND -0.138  \n",
        "SO IT IS STATISTICAL SIGNIFICANT.   \n",
        "***B_EPSP***  \n",
        "THE T VALUE OF THIS BETA IS 17.589, THE P VALUE OF THIS BETA IS < 0.000001,  \n",
        "SO IT IS VERY CONFIDENT, AND LESS THAN 0.000001 OF THE CHANGE IT WILL BE SMALLER THAN 0,  \n",
        "95% OF THE CHANGE, IT WILL BE BETWEEN 2.057 AND 2.572  \n",
        "SO IT IS STATISTICAL SIGNIFICANT.  \n",
        "***B_SIZE_D1***  \n",
        "THE T VALUE OF THIS BETA IS 1.706, THE P VALUE OF THIS BETA IS 8.8%,  \n",
        "SO IT IS ***NOT*** CONFIDENT, AND 8.8% OF THE CHANGE IT WILL BE SMALLER THAN 0,  \n",
        "95% OF THE CHANGE, IT WILL BE BETWEEN -0.004 AND 0.053  \n",
        "SO IT IS ***NOT*** STATISTICAL SIGNIFICANT.  \n",
        "***B_SIZE_D2***  \n",
        "THE T VALUE OF THIS BETA IS 3.221, THE P VALUE OF THIS BETA IS 0.1%,  \n",
        "SO IT IS VERY CONFIDENT, AND LESS THAN 0.1% OF THE CHANGE IT WILL BE SMALLER THAN 0,  \n",
        "95% OF THE CHANGE, IT WILL BE BETWEEN 0.018 AND 0.075  \n",
        "SO IT IS STATISTICAL SIGNIFICANT.  "
      ]
    },
    {
      "cell_type": "markdown",
      "metadata": {},
      "source": [
        "### ***Interpret the R-squared of the model***\n",
        "R-SQUARED DETERMINES HOW WELL THE DATA FIT THE REGRESSSION MODEL.  \n",
        "R-SQUARED IS 0.115, 11.5%.  \n",
        "IT MEANS 11.5% OF THE VARIABILITY OBSERVED IN THE TARGET VARIABLE IS EXPLAINED BY THE REGRESSION MODEL.  \n",
        "IT MEANS 11.5% OF THE CHANCE, OUR ANNUAL RETURN CAN BE PRESENTED BY OUR REGRESSION MODEL,  \n",
        "AND 88.5% CHANCE, OUR REGRESSION MODEL WILL NOT REPESENT THE ANNUAL RETURN.  \n",
        "ACTUALLY OUR MODEL IS NOT VERY GOOD FOR PREDICTION.  "
      ]
    },
    {
      "cell_type": "markdown",
      "metadata": {},
      "source": [
        "### ***Adjustments to your model.***"
      ]
    },
    {
      "cell_type": "markdown",
      "metadata": {},
      "source": [
        "SINCE THE B_SIZE_D1 IS NOT STATISTICAL SIGNIFICANT,  \n",
        "SO WE WILL DROP THE SIZE_D1,  \n",
        "AND REDO THE REGRESSION "
      ]
    },
    {
      "cell_type": "code",
      "execution_count": null,
      "metadata": {},
      "outputs": [
        {
          "data": {
            "text/html": [
              "<table class=\"simpletable\">\n",
              "<caption>OLS Regression Results</caption>\n",
              "<tr>\n",
              "  <th>Dep. Variable:</th>     <td>anual_cc_return</td> <th>  R-squared:         </th> <td>   0.115</td> \n",
              "</tr>\n",
              "<tr>\n",
              "  <th>Model:</th>                   <td>OLS</td>       <th>  Adj. R-squared:    </th> <td>   0.114</td> \n",
              "</tr>\n",
              "<tr>\n",
              "  <th>Method:</th>             <td>Least Squares</td>  <th>  F-statistic:       </th> <td>   190.6</td> \n",
              "</tr>\n",
              "<tr>\n",
              "  <th>Date:</th>             <td>Sat, 10 Sep 2022</td> <th>  Prob (F-statistic):</th> <td>1.67e-191</td>\n",
              "</tr>\n",
              "<tr>\n",
              "  <th>Time:</th>                 <td>03:02:26</td>     <th>  Log-Likelihood:    </th> <td> -5249.0</td> \n",
              "</tr>\n",
              "<tr>\n",
              "  <th>No. Observations:</th>      <td>  7357</td>      <th>  AIC:               </th> <td>1.051e+04</td>\n",
              "</tr>\n",
              "<tr>\n",
              "  <th>Df Residuals:</th>          <td>  7351</td>      <th>  BIC:               </th> <td>1.055e+04</td>\n",
              "</tr>\n",
              "<tr>\n",
              "  <th>Df Model:</th>              <td>     5</td>      <th>                     </th>     <td> </td>    \n",
              "</tr>\n",
              "<tr>\n",
              "  <th>Covariance Type:</th>      <td>nonrobust</td>    <th>                     </th>     <td> </td>    \n",
              "</tr>\n",
              "</table>\n",
              "<table class=\"simpletable\">\n",
              "<tr>\n",
              "          <td></td>            <th>coef</th>     <th>std err</th>      <th>t</th>      <th>P>|t|</th>  <th>[0.025</th>    <th>0.975]</th>  \n",
              "</tr>\n",
              "<tr>\n",
              "  <th>const</th>            <td>    0.1528</td> <td>    0.010</td> <td>   15.951</td> <td> 0.000</td> <td>    0.134</td> <td>    0.172</td>\n",
              "</tr>\n",
              "<tr>\n",
              "  <th>op_profit_margin</th> <td>    0.0332</td> <td>    0.012</td> <td>    2.720</td> <td> 0.007</td> <td>    0.009</td> <td>    0.057</td>\n",
              "</tr>\n",
              "<tr>\n",
              "  <th>short_leverage</th>   <td>   -0.2053</td> <td>    0.058</td> <td>   -3.536</td> <td> 0.000</td> <td>   -0.319</td> <td>   -0.091</td>\n",
              "</tr>\n",
              "<tr>\n",
              "  <th>bmr</th>              <td>   -0.1576</td> <td>    0.009</td> <td>  -18.157</td> <td> 0.000</td> <td>   -0.175</td> <td>   -0.141</td>\n",
              "</tr>\n",
              "<tr>\n",
              "  <th>epsp</th>             <td>    2.3328</td> <td>    0.131</td> <td>   17.786</td> <td> 0.000</td> <td>    2.076</td> <td>    2.590</td>\n",
              "</tr>\n",
              "<tr>\n",
              "  <th>size_d2</th>          <td>    0.0341</td> <td>    0.012</td> <td>    2.732</td> <td> 0.006</td> <td>    0.010</td> <td>    0.059</td>\n",
              "</tr>\n",
              "</table>\n",
              "<table class=\"simpletable\">\n",
              "<tr>\n",
              "  <th>Omnibus:</th>       <td>1733.887</td> <th>  Durbin-Watson:     </th> <td>   0.642</td> \n",
              "</tr>\n",
              "<tr>\n",
              "  <th>Prob(Omnibus):</th>  <td> 0.000</td>  <th>  Jarque-Bera (JB):  </th> <td>40458.566</td>\n",
              "</tr>\n",
              "<tr>\n",
              "  <th>Skew:</th>           <td>-0.570</td>  <th>  Prob(JB):          </th> <td>    0.00</td> \n",
              "</tr>\n",
              "<tr>\n",
              "  <th>Kurtosis:</th>       <td>14.432</td>  <th>  Cond. No.          </th> <td>    29.0</td> \n",
              "</tr>\n",
              "</table><br/><br/>Notes:<br/>[1] Standard Errors assume that the covariance matrix of the errors is correctly specified."
            ],
            "text/plain": [
              "<class 'statsmodels.iolib.summary.Summary'>\n",
              "\"\"\"\n",
              "                            OLS Regression Results                            \n",
              "==============================================================================\n",
              "Dep. Variable:        anual_cc_return   R-squared:                       0.115\n",
              "Model:                            OLS   Adj. R-squared:                  0.114\n",
              "Method:                 Least Squares   F-statistic:                     190.6\n",
              "Date:                Sat, 10 Sep 2022   Prob (F-statistic):          1.67e-191\n",
              "Time:                        03:02:26   Log-Likelihood:                -5249.0\n",
              "No. Observations:                7357   AIC:                         1.051e+04\n",
              "Df Residuals:                    7351   BIC:                         1.055e+04\n",
              "Df Model:                           5                                         \n",
              "Covariance Type:            nonrobust                                         \n",
              "====================================================================================\n",
              "                       coef    std err          t      P>|t|      [0.025      0.975]\n",
              "------------------------------------------------------------------------------------\n",
              "const                0.1528      0.010     15.951      0.000       0.134       0.172\n",
              "op_profit_margin     0.0332      0.012      2.720      0.007       0.009       0.057\n",
              "short_leverage      -0.2053      0.058     -3.536      0.000      -0.319      -0.091\n",
              "bmr                 -0.1576      0.009    -18.157      0.000      -0.175      -0.141\n",
              "epsp                 2.3328      0.131     17.786      0.000       2.076       2.590\n",
              "size_d2              0.0341      0.012      2.732      0.006       0.010       0.059\n",
              "==============================================================================\n",
              "Omnibus:                     1733.887   Durbin-Watson:                   0.642\n",
              "Prob(Omnibus):                  0.000   Jarque-Bera (JB):            40458.566\n",
              "Skew:                          -0.570   Prob(JB):                         0.00\n",
              "Kurtosis:                      14.432   Cond. No.                         29.0\n",
              "==============================================================================\n",
              "\n",
              "Notes:\n",
              "[1] Standard Errors assume that the covariance matrix of the errors is correctly specified.\n",
              "\"\"\""
            ]
          },
          "metadata": {},
          "output_type": "display_data"
        }
      ],
      "source": [
        "X2 = df_finance_train_copy[['op_profit_margin', 'short_leverage', 'bmr', 'epsp', 'size_d2']]\n",
        "y2 = df_finance_train_copy['anual_cc_return']\n",
        "\n",
        "X2 = sm.add_constant(X2)\n",
        "mkmodel2 = sm.OLS(y2,X2).fit()\n",
        "mkmodel2.summary()"
      ]
    },
    {
      "cell_type": "markdown",
      "metadata": {},
      "source": [
        "### ***Run the final model***  \n",
        "WE WILL PERFORM THE PREDICTION FOR THE ANNUAL RETURN IN THE FUTURN QUATOR  "
      ]
    },
    {
      "cell_type": "code",
      "execution_count": 300,
      "metadata": {},
      "outputs": [
        {
          "data": {
            "text/html": [
              "<div>\n",
              "<style scoped>\n",
              "    .dataframe tbody tr th:only-of-type {\n",
              "        vertical-align: middle;\n",
              "    }\n",
              "\n",
              "    .dataframe tbody tr th {\n",
              "        vertical-align: top;\n",
              "    }\n",
              "\n",
              "    .dataframe thead th {\n",
              "        text-align: right;\n",
              "    }\n",
              "</style>\n",
              "<table border=\"1\" class=\"dataframe\">\n",
              "  <thead>\n",
              "    <tr style=\"text-align: right;\">\n",
              "      <th></th>\n",
              "      <th>q</th>\n",
              "      <th>revenue</th>\n",
              "      <th>anual_cc_return</th>\n",
              "      <th>adjprice</th>\n",
              "    </tr>\n",
              "    <tr>\n",
              "      <th>firm</th>\n",
              "      <th></th>\n",
              "      <th></th>\n",
              "      <th></th>\n",
              "      <th></th>\n",
              "    </tr>\n",
              "  </thead>\n",
              "  <tbody>\n",
              "    <tr>\n",
              "      <th>AC</th>\n",
              "      <td>2022q2</td>\n",
              "      <td>2546.00000</td>\n",
              "      <td>-0.141066</td>\n",
              "      <td>35.8300</td>\n",
              "    </tr>\n",
              "    <tr>\n",
              "      <th>ACTG</th>\n",
              "      <td>2022q2</td>\n",
              "      <td>16717.00000</td>\n",
              "      <td>-0.705272</td>\n",
              "      <td>5.0400</td>\n",
              "    </tr>\n",
              "    <tr>\n",
              "      <th>AEI</th>\n",
              "      <td>2022q2</td>\n",
              "      <td>926.34003</td>\n",
              "      <td>-1.230112</td>\n",
              "      <td>0.2939</td>\n",
              "    </tr>\n",
              "    <tr>\n",
              "      <th>AFCG</th>\n",
              "      <td>2022q2</td>\n",
              "      <td>19904.20300</td>\n",
              "      <td>0.087731</td>\n",
              "      <td>15.3300</td>\n",
              "    </tr>\n",
              "    <tr>\n",
              "      <th>AFRM</th>\n",
              "      <td>2022q1</td>\n",
              "      <td>354762.00000</td>\n",
              "      <td>0.049061</td>\n",
              "      <td>46.2800</td>\n",
              "    </tr>\n",
              "  </tbody>\n",
              "</table>\n",
              "</div>"
            ],
            "text/plain": [
              "           q       revenue  anual_cc_return  adjprice\n",
              "firm                                                 \n",
              "AC    2022q2    2546.00000        -0.141066   35.8300\n",
              "ACTG  2022q2   16717.00000        -0.705272    5.0400\n",
              "AEI   2022q2     926.34003        -1.230112    0.2939\n",
              "AFCG  2022q2   19904.20300         0.087731   15.3300\n",
              "AFRM  2022q1  354762.00000         0.049061   46.2800"
            ]
          },
          "execution_count": 300,
          "metadata": {},
          "output_type": "execute_result"
        }
      ],
      "source": [
        "df_finance_predict = df_finance_train_copy.copy()\n",
        "df_finance_predict = df_finance_predict.groupby('firm').last()\n",
        "df_finance_predict = df_finance_predict[(df_finance_predict['op_profit_margin'] != np.nan)\n",
        "& (df_finance_predict['short_leverage'] != np.nan)\n",
        "& (df_finance_predict['bmr'] != np.nan)\n",
        "& (df_finance_predict['epsp'] != np.nan)\n",
        "& (df_finance_predict['bookvalue'] != np.nan)]\n",
        "#df_finance_predict['anual_cc_return'].count()\n",
        "#df_finance_predict['anual_cc_return'].head()\n",
        "df_finance_predict['anual_cc_return'] = 0.1528 + 0.0332 * df_finance_predict['op_profit_margin'] - 0.2053 * df_finance_predict['short_leverage'] - 0.1576 * df_finance_predict['bmr'] + 2.3328 * df_finance_predict['epsp'] + 0.0341 * df_finance_predict['size_d2']\n",
        "#df_finance[['firm', 'q', 'revenue', 'anual_cc_return', 'adjprice']].head()\n",
        "df_finance_predict[['q', 'revenue', 'anual_cc_return', 'adjprice']].head()"
      ]
    },
    {
      "cell_type": "markdown",
      "metadata": {},
      "source": [
        "### ***interpret your final model.***  \n",
        "***B_CONST = 0.1528***  \n",
        "WHEN THERE IS NO NET INCOME, NOT SHORT DEBT, BOOK_VALUE IS 0, WITH A SMALL OR MEDIA SIZE OF FIRM,  \n",
        "WE WILL STILL HAVE 15% ANNUAL RETURN ON STOCK.  \n",
        "AND WITH 95% CHANCE, THIS ANNUAL RETURN WILL BE FROM 13.4% TO 17.2%,  \n",
        "WITH EXTREMELY LOW CHANCE, THIS ANNUAL RETURN WILL BE LESS THAN 0.  \n",
        "***B_OP_PROFIT_MARGIN = 0.0332***  \n",
        "EACH 1% OF PROFIT_MARGIN INCREASE, WILL GIVE A 0.0332% OF ANNUAL RETURN INCREASE,  \n",
        "AND WITH 95% CHANCE, THIS ANNUAL RETURN INCREASE WILL BE BETWEEN 0.009% TO 0.057%,  \n",
        "IN 99.3% OF THE CHANCE, OP_PROFIT_MARGIN INCREASE WILL MAKE ANNUAL RETURN INCREASE, \n",
        "BUT THERE WILL BE 0.7% OF CHANCE, WILL MAKE ANNUAL RETURN DECREASE.  \n",
        "***B_SHORT_LEVERAGE = -0.2053***  \n",
        "EACH 1% OF SHORT_LEVERAGE INCREASE, WILL GIVE 0.2053% OF ANNUAL RETURN DECREASE,  \n",
        "AND WITH 95% OF THE CHANCE, THIS ANNUAL RETURN DECREASE WILL BE BETWEEN 0.319% TO 0.091%,  \n",
        "WITH EXTREMELY LOW CHANCE, SHORT_LEVERAGE INCREASE WILL MAKE ANNUAL RETURN INCREASE.  \n",
        "***B_BMR = -0.1576***  \n",
        "EACH 1% OF BOOK-MARKET-VALUE-RATIO INCREASE, WILL GIVE 0.1576% DECREASE OF ANNUAL RETURN,  \n",
        "AND WITH 95% OF THE CHANCE, THIS ANNUAL RETURN DECREASE WILL BE BETWEEN 0.175% TO 0.141%   \n",
        "WITH EXTREMELY LOW CHANCE, BMR INCREASE WILL GIVE ANNUAL RETURN INCREASE.  \n",
        "***B_EPSP = 2.3328***  \n",
        "EACH 1% OF EPSP INCREASE, WILL GIVE 2.3328% INCREASE ON ANNUAL RETURN,  \n",
        "AND WITH 95% OF CHANCE, THIS ANNUAL RETURN WILL BE BETWEEN 2.075% TO 2.590%,   \n",
        "WITH EXTREMELY LOW CHANCE, EPSP INCREASE WILL GIVE ANNUAL RETURN DECREASE    \n",
        "***B_SIZE_D2 = 0.0341***  \n",
        "WHEN COMPANY'S MARKET VALUE IS ABOVE 67.77% TOP STOCK MARKET VALUE,   \n",
        "THE FIRM'S ANNUAL RETURN WILL HAVE 3.41% MORE ANNUAL RETURN THAN THE COMPANY BELOW 67.77% TOP MARKET VALUE,  \n",
        "AND WITH 95% OF CHANCE, THIS ADDITIONAL ANNUAL RETURN WILL BE BETWEEN 1% TO 5.9%,  \n",
        "WITH 0.6% OF CHANCE, THOSE TOP MARKET VAULE FIRM WILL WITH LESS ANNUAL RETURN THAN THE MEDIA OR LOW SIZE FIRM,  \n",
        "IF THEY ARE ALL WITH THE SAME EPSP, BMR, SHORT_LEVERAGE AND OP_PROFIT_MARGIN.  \n",
        "IT MEANS 99.4% OF THE TIME, BIG COMPANY IS MORE PROFITABLE THAN MEDIA OR SMALL SIZE FIRM.     "
      ]
    }
  ],
  "metadata": {
    "colab": {
      "authorship_tag": "ABX9TyMvTci+0TwFTskgJuXf/duy",
      "collapsed_sections": [],
      "include_colab_link": true,
      "name": "M1_Delivery.ipynb",
      "provenance": []
    },
    "kernelspec": {
      "display_name": "Python 3.7.7 64-bit",
      "language": "python",
      "name": "python3"
    },
    "language_info": {
      "codemirror_mode": {
        "name": "ipython",
        "version": 3
      },
      "file_extension": ".py",
      "mimetype": "text/x-python",
      "name": "python",
      "nbconvert_exporter": "python",
      "pygments_lexer": "ipython3",
      "version": "3.7.7"
    },
    "vscode": {
      "interpreter": {
        "hash": "1f2ac25b4a6d870602abfa5d74e7d6f1ae274ba9e86645830384575c0e5c89f3"
      }
    }
  },
  "nbformat": 4,
  "nbformat_minor": 0
}
