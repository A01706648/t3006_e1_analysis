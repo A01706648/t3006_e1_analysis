{
  "nbformat": 4,
  "nbformat_minor": 0,
  "metadata": {
    "colab": {
      "provenance": [],
      "collapsed_sections": [],
      "authorship_tag": "ABX9TyN+6D+u7bKdKAgUoAjXT+ed",
      "include_colab_link": true
    },
    "kernelspec": {
      "name": "python3",
      "display_name": "Python 3"
    },
    "language_info": {
      "name": "python"
    }
  },
  "cells": [
    {
      "cell_type": "markdown",
      "metadata": {
        "id": "view-in-github",
        "colab_type": "text"
      },
      "source": [
        "<a href=\"https://colab.research.google.com/github/A01706648/TC3006_ClassWork/blob/main/m1/w2_practise.ipynb\" target=\"_parent\"><img src=\"https://colab.research.google.com/assets/colab-badge.svg\" alt=\"Open In Colab\"/></a>"
      ]
    },
    {
      "cell_type": "code",
      "source": [
        "!pip install symbulate"
      ],
      "metadata": {
        "colab": {
          "base_uri": "https://localhost:8080/"
        },
        "id": "u3fIwuIYulLe",
        "outputId": "05f282e6-badb-4388-9f05-585156aa06c4"
      },
      "execution_count": 2,
      "outputs": [
        {
          "output_type": "stream",
          "name": "stdout",
          "text": [
            "Looking in indexes: https://pypi.org/simple, https://us-python.pkg.dev/colab-wheels/public/simple/\n",
            "Collecting symbulate\n",
            "  Downloading symbulate-0.5.7-py3-none-any.whl (44 kB)\n",
            "\u001b[K     |████████████████████████████████| 44 kB 1.8 MB/s \n",
            "\u001b[?25hRequirement already satisfied: scipy in /usr/local/lib/python3.7/dist-packages (from symbulate) (1.7.3)\n",
            "Requirement already satisfied: numpy in /usr/local/lib/python3.7/dist-packages (from symbulate) (1.21.6)\n",
            "Requirement already satisfied: matplotlib in /usr/local/lib/python3.7/dist-packages (from symbulate) (3.2.2)\n",
            "Requirement already satisfied: cycler>=0.10 in /usr/local/lib/python3.7/dist-packages (from matplotlib->symbulate) (0.11.0)\n",
            "Requirement already satisfied: pyparsing!=2.0.4,!=2.1.2,!=2.1.6,>=2.0.1 in /usr/local/lib/python3.7/dist-packages (from matplotlib->symbulate) (3.0.9)\n",
            "Requirement already satisfied: python-dateutil>=2.1 in /usr/local/lib/python3.7/dist-packages (from matplotlib->symbulate) (2.8.2)\n",
            "Requirement already satisfied: kiwisolver>=1.0.1 in /usr/local/lib/python3.7/dist-packages (from matplotlib->symbulate) (1.4.4)\n",
            "Requirement already satisfied: typing-extensions in /usr/local/lib/python3.7/dist-packages (from kiwisolver>=1.0.1->matplotlib->symbulate) (4.1.1)\n",
            "Requirement already satisfied: six>=1.5 in /usr/local/lib/python3.7/dist-packages (from python-dateutil>=2.1->matplotlib->symbulate) (1.15.0)\n",
            "Installing collected packages: symbulate\n",
            "Successfully installed symbulate-0.5.7\n"
          ]
        }
      ]
    },
    {
      "cell_type": "code",
      "execution_count": 3,
      "metadata": {
        "id": "CL3a6YLRuJgn"
      },
      "outputs": [],
      "source": [
        "from symbulate import *\n",
        "#'exec(%matplotlib inline)' \n",
        "import matplotlib\n",
        "\n",
        "import matplotlib.pyplot as plt"
      ]
    },
    {
      "cell_type": "code",
      "source": [
        "# clear the plot space:\n",
        "plt.clf()\n",
        "# Define the probability type of function as uniform (probability space)\n",
        "P = Uniform(0,40)\n",
        "# Define X as a random variable of the type P (uniform)\n",
        "X =RV(P)\n",
        "# Simulate the values of X and save the in the x array: \n",
        "x=X.sim(10000)\n",
        "x.plot()\n",
        "plt.show()"
      ],
      "metadata": {
        "colab": {
          "base_uri": "https://localhost:8080/",
          "height": 266
        },
        "id": "QM8Jep-Suuqk",
        "outputId": "2eb3ca52-a34b-4e17-dc55-f496b2791198"
      },
      "execution_count": 4,
      "outputs": [
        {
          "output_type": "display_data",
          "data": {
            "text/plain": [
              "<Figure size 432x288 with 1 Axes>"
            ],
            "image/png": "[encoded data removed]"
          },
          "metadata": {
            "needs_background": "light"
          }
        }
      ]
    },
    {
      "cell_type": "code",
      "source": [
        "# Define the probability space as a vector of 25 uniform random numbers:\n",
        "P = Uniform(0,40) ** 25\n",
        "# Define XVECTOR as a vector of random variables with 25 random values \n",
        "XVECTOR =RV(P)\n",
        "# Simulate 10,000 vectors to get a matrix  \n",
        "xmatrix=XVECTOR.sim(10000)"
      ],
      "metadata": {
        "id": "mq9lKUPPuxLR"
      },
      "execution_count": 5,
      "outputs": []
    },
    {
      "cell_type": "code",
      "source": [
        "xmatrix"
      ],
      "metadata": {
        "colab": {
          "base_uri": "https://localhost:8080/",
          "height": 273
        },
        "id": "bv3OGZosu0Ev",
        "outputId": "cad81b83-24d5-43b2-dc00-d0305bf4c093"
      },
      "execution_count": 6,
      "outputs": [
        {
          "output_type": "execute_result",
          "data": {
            "text/plain": [
              "Index Result\n",
              "0     (2.5167966460777347, 16.028303515999166, 36.24978442435483, 10.205582441294702, 20.927953686322994, ..., 7.981174160395321)\n",
              "1     (15.239760487123434, 10.264326196285577, 5.762662142092534, 17.31977003948847, 30.68009226592393, ..., 0.7502455495748128)\n",
              "2     (19.400597071911886, 8.156003829936541, 6.06708185961256, 7.661900435744751, 26.377027514659822, ..., 16.06286526050446)\n",
              "3     (31.77259635620199, 36.25842619905753, 14.834886420779858, 1.008848593944216, 16.741812691868795, ..., 7.229997510257045)\n",
              "4     (11.565504392359838, 12.495384967833768, 10.245442036198478, 9.01711135954367, 28.352787524532424, ..., 3.7742516783264657)\n",
              "5     (13.17040276091662, 16.590522023590125, 37.472887803614064, 34.27221093135948, 8.835466817741446, ..., 11.918867882165834)\n",
              "6     (33.89913951933488, 11.544790592657721, 0.6625046635987486, 39.00568294121092, 7.656551039595927, ..., 0.44317693396763946)\n",
              "7     (39.796554567477095, 36.25311561146883, 31.43077918097241, 23.01042874328092, 38.33210997311021, ..., 4.031507566732744)\n",
              "8     (14.261548794077887, 36.05776056920685, 28.01483776868769, 4.496660682189999, 9.735617735782478, ..., 29.970867345281786)\n",
              "....  ........................................................................................................................\n",
              "9999  (1.9654321861379875, 6.001652105337221, 25.236606970906873, 31.26052008939141, 9.92603113185976, ..., 35.05851647742749)"
            ],
            "text/html": [
              "\n",
              "    <table>\n",
              "      <thead>\n",
              "        <th width=\"10%\">Index</th>\n",
              "        <th width=\"90%\">Result</th>\n",
              "      </thead>\n",
              "      <tbody>\n",
              "        \n",
              "        <tr>\n",
              "          <td>0</td><td>(2.5167966460777347, 16.028303515999166, 36.24978442435483, 10.205582441294702, 20.927953686322994, ...</td>\n",
              "        </tr>\n",
              "        \n",
              "        <tr>\n",
              "          <td>1</td><td>(15.239760487123434, 10.264326196285577, 5.762662142092534, 17.31977003948847, 30.68009226592393, .....</td>\n",
              "        </tr>\n",
              "        \n",
              "        <tr>\n",
              "          <td>2</td><td>(19.400597071911886, 8.156003829936541, 6.06708185961256, 7.661900435744751, 26.377027514659822, ......</td>\n",
              "        </tr>\n",
              "        \n",
              "        <tr>\n",
              "          <td>3</td><td>(31.77259635620199, 36.25842619905753, 14.834886420779858, 1.008848593944216, 16.741812691868795, .....</td>\n",
              "        </tr>\n",
              "        \n",
              "        <tr>\n",
              "          <td>4</td><td>(11.565504392359838, 12.495384967833768, 10.245442036198478, 9.01711135954367, 28.352787524532424, ....</td>\n",
              "        </tr>\n",
              "        \n",
              "        <tr>\n",
              "          <td>5</td><td>(13.17040276091662, 16.590522023590125, 37.472887803614064, 34.27221093135948, 8.835466817741446, .....</td>\n",
              "        </tr>\n",
              "        \n",
              "        <tr>\n",
              "          <td>6</td><td>(33.89913951933488, 11.544790592657721, 0.6625046635987486, 39.00568294121092, 7.656551039595927, .....</td>\n",
              "        </tr>\n",
              "        \n",
              "        <tr>\n",
              "          <td>7</td><td>(39.796554567477095, 36.25311561146883, 31.43077918097241, 23.01042874328092, 38.33210997311021, ......</td>\n",
              "        </tr>\n",
              "        \n",
              "        <tr>\n",
              "          <td>8</td><td>(14.261548794077887, 36.05776056920685, 28.01483776868769, 4.496660682189999, 9.735617735782478, ......</td>\n",
              "        </tr>\n",
              "        <tr><td>...</td><td>...</td></tr>\n",
              "        <tr>\n",
              "          <td>9999</td><td>(1.9654321861379875, 6.001652105337221, 25.236606970906873, 31.26052008939141, 9.92603113185976, ......</td>\n",
              "        </tr>\n",
              "        \n",
              "      </tbody>\n",
              "    </table>\n",
              "        "
            ]
          },
          "metadata": {},
          "execution_count": 6
        }
      ]
    },
    {
      "cell_type": "code",
      "source": [
        "# The 2nd parameter is the mathematical operation applied to each row of the random vector\n",
        "# Simulate 10,000 means of each random vector of 25 uniform distributed numbers: \n",
        "xmean = RV(P,mean).sim(10000)\n",
        "xmean"
      ],
      "metadata": {
        "colab": {
          "base_uri": "https://localhost:8080/",
          "height": 273
        },
        "id": "BGcMNWK5u2iC",
        "outputId": "a1459e97-4f87-47fc-ebb1-6965ec9f542a"
      },
      "execution_count": 7,
      "outputs": [
        {
          "output_type": "execute_result",
          "data": {
            "text/plain": [
              "Index Result\n",
              "0     24.317438077186257\n",
              "1     19.519150231663048\n",
              "2     19.145875940961773\n",
              "3     21.548673305044385\n",
              "4     19.227555157646293\n",
              "5     20.16549693488208\n",
              "6     15.548255327207723\n",
              "7     21.79034253251809\n",
              "8     20.81569623904971\n",
              "....  ..................\n",
              "9999  15.572346888740842"
            ],
            "text/html": [
              "\n",
              "    <table>\n",
              "      <thead>\n",
              "        <th width=\"10%\">Index</th>\n",
              "        <th width=\"90%\">Result</th>\n",
              "      </thead>\n",
              "      <tbody>\n",
              "        \n",
              "        <tr>\n",
              "          <td>0</td><td>24.317438077186257</td>\n",
              "        </tr>\n",
              "        \n",
              "        <tr>\n",
              "          <td>1</td><td>19.519150231663048</td>\n",
              "        </tr>\n",
              "        \n",
              "        <tr>\n",
              "          <td>2</td><td>19.145875940961773</td>\n",
              "        </tr>\n",
              "        \n",
              "        <tr>\n",
              "          <td>3</td><td>21.548673305044385</td>\n",
              "        </tr>\n",
              "        \n",
              "        <tr>\n",
              "          <td>4</td><td>19.227555157646293</td>\n",
              "        </tr>\n",
              "        \n",
              "        <tr>\n",
              "          <td>5</td><td>20.16549693488208</td>\n",
              "        </tr>\n",
              "        \n",
              "        <tr>\n",
              "          <td>6</td><td>15.548255327207723</td>\n",
              "        </tr>\n",
              "        \n",
              "        <tr>\n",
              "          <td>7</td><td>21.79034253251809</td>\n",
              "        </tr>\n",
              "        \n",
              "        <tr>\n",
              "          <td>8</td><td>20.81569623904971</td>\n",
              "        </tr>\n",
              "        <tr><td>...</td><td>...</td></tr>\n",
              "        <tr>\n",
              "          <td>9999</td><td>15.572346888740842</td>\n",
              "        </tr>\n",
              "        \n",
              "      </tbody>\n",
              "    </table>\n",
              "        "
            ]
          },
          "metadata": {},
          "execution_count": 7
        }
      ]
    },
    {
      "cell_type": "code",
      "source": [
        "plt.clf()\n",
        "xmean.plot()\n",
        "plt.show()"
      ],
      "metadata": {
        "colab": {
          "base_uri": "https://localhost:8080/",
          "height": 265
        },
        "id": "P0NTueJPu4xe",
        "outputId": "ab1652d0-57b9-4a41-99ac-947222511d75"
      },
      "execution_count": 8,
      "outputs": [
        {
          "output_type": "display_data",
          "data": {
            "text/plain": [
              "<Figure size 432x288 with 1 Axes>"
            ],
            "image/png": "[encoded data removed]"
          },
          "metadata": {
            "needs_background": "light"
          }
        }
      ]
    },
    {
      "cell_type": "code",
      "source": [
        "plt.clf()\n",
        "xmean.plot()\n",
        "x.plot()\n",
        "plt.show()"
      ],
      "metadata": {
        "colab": {
          "base_uri": "https://localhost:8080/",
          "height": 265
        },
        "id": "QCbRBZQvvAuv",
        "outputId": "21ec2f27-e095-4b61-ab00-64833f7ee165"
      },
      "execution_count": 9,
      "outputs": [
        {
          "output_type": "display_data",
          "data": {
            "text/plain": [
              "<Figure size 432x288 with 1 Axes>"
            ],
            "image/png": "[encoded data removed]"
          },
          "metadata": {
            "needs_background": "light"
          }
        }
      ]
    },
    {
      "cell_type": "code",
      "source": [
        "# clear the plot space:\n",
        "plt.clf()\n",
        "# Define the probability type of function as uniform (probability space)\n",
        "P = Normal(mean=20, sd=10)\n",
        "# Define Y as a random variable of the type P (normal)\n",
        "Y =RV(P)\n",
        "# Simulate 10,000 values of Y and save the in the x array: \n",
        "y=Y.sim(10000)\n",
        "y.plot()\n",
        "plt.show()"
      ],
      "metadata": {
        "colab": {
          "base_uri": "https://localhost:8080/",
          "height": 268
        },
        "id": "zk_v-dzYvDgT",
        "outputId": "aeed308c-e6f9-4e16-f0c2-fc6fa76c13f0"
      },
      "execution_count": 10,
      "outputs": [
        {
          "output_type": "display_data",
          "data": {
            "text/plain": [
              "<Figure size 432x288 with 1 Axes>"
            ],
            "image/png": "[encoded data removed]"
          },
          "metadata": {
            "needs_background": "light"
          }
        }
      ]
    },
    {
      "cell_type": "code",
      "source": [
        "# Define the probability space P as a vector of 25 normal random numbers:\n",
        "P = Normal(mean=20, sd=10) ** 25\n",
        "# Define RANDOMVECTOR as a vector of 25 random variables in the Probability space P \n",
        "RANDOMVECTOR = RV(P)\n",
        "# Simulate 10,000 random vectors with this distribution and save the in ymatrix: \n",
        "ymatrix=RANDOMVECTOR.sim(10000)"
      ],
      "metadata": {
        "id": "_gHZsg3gvGsl"
      },
      "execution_count": 11,
      "outputs": []
    },
    {
      "cell_type": "code",
      "source": [
        "ymatrix"
      ],
      "metadata": {
        "colab": {
          "base_uri": "https://localhost:8080/",
          "height": 273
        },
        "id": "RCMcyCGjvIVJ",
        "outputId": "1ca6c37a-a52e-486e-f744-efa37407fd31"
      },
      "execution_count": 12,
      "outputs": [
        {
          "output_type": "execute_result",
          "data": {
            "text/plain": [
              "Index Result\n",
              "0     (24.04105536013277, 9.588058987961116, 27.928552271574727, 26.148194060417232, 30.321307232461074, ..., 19.86463734381606)\n",
              "1     (18.09056304537373, 21.89380550077345, 4.014618681374243, 24.72273537476012, 14.05688633052812, ..., 26.111828962215718)\n",
              "2     (5.367548274933734, 21.514032938893685, 22.33508704086902, 30.61179040191289, 16.195595565094603, ..., 26.263418978337462)\n",
              "3     (20.735050378288673, 4.879414027534125, 22.20408859958133, -1.9853235900752466, 15.438748346446623, ..., 12.988588793080359)\n",
              "4     (26.744539829751268, 20.38825833702688, 34.21407224327845, 34.33509789007246, 11.596604975342505, ..., 34.7317066753317)\n",
              "5     (29.181572817034468, 34.052370014988014, 23.989913573117523, 28.548806881794206, 32.1776141665458, ..., 21.71311370550307)\n",
              "6     (28.8924204190453, 15.266031115794357, 24.645353508008817, 22.4660900326868, 12.939354269277562, ..., 30.985455237545512)\n",
              "7     (22.88451926084651, 14.947450183322069, 13.967403373919842, 22.618937373393702, 13.841870413786772, ..., 10.094088013559118)\n",
              "8     (6.66975904927642, 11.136781268504144, -0.5794916727684587, 10.359061342590701, 11.267719237107206, ..., 26.270161962933024)\n",
              "....  ..........................................................................................................................\n",
              "9999  (24.70441889529269, 17.63796246002091, 20.557471319555813, 44.22831018337113, 12.670048856970771, ..., 15.564462725100299)"
            ],
            "text/html": [
              "\n",
              "    <table>\n",
              "      <thead>\n",
              "        <th width=\"10%\">Index</th>\n",
              "        <th width=\"90%\">Result</th>\n",
              "      </thead>\n",
              "      <tbody>\n",
              "        \n",
              "        <tr>\n",
              "          <td>0</td><td>(24.04105536013277, 9.588058987961116, 27.928552271574727, 26.148194060417232, 30.321307232461074, ....</td>\n",
              "        </tr>\n",
              "        \n",
              "        <tr>\n",
              "          <td>1</td><td>(18.09056304537373, 21.89380550077345, 4.014618681374243, 24.72273537476012, 14.05688633052812, ...,...</td>\n",
              "        </tr>\n",
              "        \n",
              "        <tr>\n",
              "          <td>2</td><td>(5.367548274933734, 21.514032938893685, 22.33508704086902, 30.61179040191289, 16.195595565094603, .....</td>\n",
              "        </tr>\n",
              "        \n",
              "        <tr>\n",
              "          <td>3</td><td>(20.735050378288673, 4.879414027534125, 22.20408859958133, -1.9853235900752466, 15.438748346446623, ...</td>\n",
              "        </tr>\n",
              "        \n",
              "        <tr>\n",
              "          <td>4</td><td>(26.744539829751268, 20.38825833702688, 34.21407224327845, 34.33509789007246, 11.596604975342505, .....</td>\n",
              "        </tr>\n",
              "        \n",
              "        <tr>\n",
              "          <td>5</td><td>(29.181572817034468, 34.052370014988014, 23.989913573117523, 28.548806881794206, 32.1776141665458, ....</td>\n",
              "        </tr>\n",
              "        \n",
              "        <tr>\n",
              "          <td>6</td><td>(28.8924204190453, 15.266031115794357, 24.645353508008817, 22.4660900326868, 12.939354269277562, ......</td>\n",
              "        </tr>\n",
              "        \n",
              "        <tr>\n",
              "          <td>7</td><td>(22.88451926084651, 14.947450183322069, 13.967403373919842, 22.618937373393702, 13.841870413786772, ...</td>\n",
              "        </tr>\n",
              "        \n",
              "        <tr>\n",
              "          <td>8</td><td>(6.66975904927642, 11.136781268504144, -0.5794916727684587, 10.359061342590701, 11.267719237107206, ...</td>\n",
              "        </tr>\n",
              "        <tr><td>...</td><td>...</td></tr>\n",
              "        <tr>\n",
              "          <td>9999</td><td>(24.70441889529269, 17.63796246002091, 20.557471319555813, 44.22831018337113, 12.670048856970771, .....</td>\n",
              "        </tr>\n",
              "        \n",
              "      </tbody>\n",
              "    </table>\n",
              "        "
            ]
          },
          "metadata": {},
          "execution_count": 12
        }
      ]
    },
    {
      "cell_type": "code",
      "source": [
        "# The 2nd parameter is the mathematical operation applied to each row of the random vector\n",
        "# Simulate 10,000 means of each random vector of 25 uniform distributed numbers: \n",
        "ymean = RV(P,mean).sim(10000)\n",
        "ymean"
      ],
      "metadata": {
        "colab": {
          "base_uri": "https://localhost:8080/",
          "height": 273
        },
        "id": "YXYSpk_ZvLO2",
        "outputId": "7545936f-de79-4057-c8d0-c67227c48268"
      },
      "execution_count": 13,
      "outputs": [
        {
          "output_type": "execute_result",
          "data": {
            "text/plain": [
              "Index Result\n",
              "0     17.133847652190347\n",
              "1     19.40165137540065\n",
              "2     21.87447310998362\n",
              "3     19.31318105168921\n",
              "4     14.94224185914519\n",
              "5     20.285831901990278\n",
              "6     16.794617685496497\n",
              "7     16.027035281338353\n",
              "8     18.671091834653257\n",
              "....  .................\n",
              "9999  21.45809570896639"
            ],
            "text/html": [
              "\n",
              "    <table>\n",
              "      <thead>\n",
              "        <th width=\"10%\">Index</th>\n",
              "        <th width=\"90%\">Result</th>\n",
              "      </thead>\n",
              "      <tbody>\n",
              "        \n",
              "        <tr>\n",
              "          <td>0</td><td>17.133847652190347</td>\n",
              "        </tr>\n",
              "        \n",
              "        <tr>\n",
              "          <td>1</td><td>19.40165137540065</td>\n",
              "        </tr>\n",
              "        \n",
              "        <tr>\n",
              "          <td>2</td><td>21.87447310998362</td>\n",
              "        </tr>\n",
              "        \n",
              "        <tr>\n",
              "          <td>3</td><td>19.31318105168921</td>\n",
              "        </tr>\n",
              "        \n",
              "        <tr>\n",
              "          <td>4</td><td>14.94224185914519</td>\n",
              "        </tr>\n",
              "        \n",
              "        <tr>\n",
              "          <td>5</td><td>20.285831901990278</td>\n",
              "        </tr>\n",
              "        \n",
              "        <tr>\n",
              "          <td>6</td><td>16.794617685496497</td>\n",
              "        </tr>\n",
              "        \n",
              "        <tr>\n",
              "          <td>7</td><td>16.027035281338353</td>\n",
              "        </tr>\n",
              "        \n",
              "        <tr>\n",
              "          <td>8</td><td>18.671091834653257</td>\n",
              "        </tr>\n",
              "        <tr><td>...</td><td>...</td></tr>\n",
              "        <tr>\n",
              "          <td>9999</td><td>21.45809570896639</td>\n",
              "        </tr>\n",
              "        \n",
              "      </tbody>\n",
              "    </table>\n",
              "        "
            ]
          },
          "metadata": {},
          "execution_count": 13
        }
      ]
    },
    {
      "cell_type": "code",
      "source": [
        "plt.clf()\n",
        "ymean.plot()\n",
        "plt.show()"
      ],
      "metadata": {
        "colab": {
          "base_uri": "https://localhost:8080/",
          "height": 265
        },
        "id": "Y9dmtQLJvNZ8",
        "outputId": "2bd20440-3f82-4636-ac62-c88c73c1e1df"
      },
      "execution_count": 14,
      "outputs": [
        {
          "output_type": "display_data",
          "data": {
            "text/plain": [
              "<Figure size 432x288 with 1 Axes>"
            ],
            "image/png": "[encoded data removed]"
          },
          "metadata": {
            "needs_background": "light"
          }
        }
      ]
    }
  ]
}